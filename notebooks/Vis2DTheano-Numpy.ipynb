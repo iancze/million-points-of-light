{
 "cells": [
  {
   "cell_type": "code",
   "execution_count": 1,
   "metadata": {},
   "outputs": [],
   "source": [
    "%matplotlib inline\n",
    "\n",
    "import numpy as np \n",
    "import matplotlib.pyplot as plt\n",
    "\n",
    "import theano\n",
    "import theano.tensor as tt\n",
    "from theano.tensor import fft\n",
    "import theano.sparse\n",
    "\n",
    "# add the gridding path \n",
    "import sys\n",
    "sys.path.append(\"/home/ian/Research/Disks/MillionPoints/million-points-of-light\")\n",
    "sys.path.append(\"/Users/ianczekala/Documents/ALMA/million-points-of-light\")\n",
    "\n",
    "import gridding\n",
    "\n",
    "# convert from arcseconds to radians\n",
    "arcsec = np.pi / (180.0 * 3600) # [radians]  = 1/206265 radian/arcsec"
   ]
  },
  {
   "cell_type": "code",
   "execution_count": 2,
   "metadata": {},
   "outputs": [],
   "source": [
    "def sky_plane(alpha, dec, a=1, delta_alpha=1.0*arcsec, delta_delta=1.0*arcsec, sigma_alpha=1.0*arcsec,\n",
    "              sigma_delta=1.0*arcsec, Omega=0.0):\n",
    "    '''\n",
    "    alpha: ra (in radians)\n",
    "    delta: dec (in radians)\n",
    "    a : amplitude\n",
    "    delta_alpha : offset (in radians)\n",
    "    delta_dec : offset (in radians)\n",
    "    sigma_alpha : width (in radians)\n",
    "    sigma_dec : width (in radians)\n",
    "    Omega : position angle of ascending node (in degrees east of north)\n",
    "    '''\n",
    "\n",
    "    return a * np.exp(-( (alpha - delta_alpha)**2/(2 * sigma_alpha**2) + \\\n",
    "                        (dec - delta_delta)**2/(2 * sigma_delta**2)))\n",
    "\n",
    "\n",
    "def fourier_plane(u, v, a=1, delta_alpha=1.0*arcsec, delta_delta=1.0*arcsec, sigma_alpha=1.0*arcsec,\n",
    "              sigma_delta=1.0*arcsec, Omega=0.0):\n",
    "    '''\n",
    "    Calculate the Fourier transform of the Gaussian. Assumes u, v in kλ.\n",
    "    '''\n",
    "\n",
    "    # convert back to lambda\n",
    "    u = u * 1e3\n",
    "    v = v * 1e3\n",
    "\n",
    "    return 2 * np.pi * a * sigma_alpha * sigma_delta * np.exp(- 2 * np.pi**2 * \\\n",
    "                (sigma_alpha**2 * u**2 + sigma_delta**2 * v**2) - 2 * np.pi * 1.0j * \\\n",
    "                                                    (delta_alpha * u + delta_delta * v))\n",
    "\n",
    "\n",
    "# the gradients\n",
    "def dV_ddelta_alpha(u, v, a=1, delta_alpha=1.0*arcsec, delta_delta=1.0*arcsec, sigma_alpha=1.0*arcsec,\n",
    "              sigma_delta=1.0*arcsec, Omega=0.0):\n",
    "    \n",
    "    \n",
    "    return -2 * np.pi * 1j * u * fourier_plane(u*1e-3, v*1e-3, a, delta_alpha, delta_delta, sigma_alpha,\n",
    "              sigma_delta, Omega)\n",
    "\n",
    "\n",
    "def dV_ddelta_delta(u, v, a=1, delta_alpha=1.0*arcsec, delta_delta=1.0*arcsec, sigma_alpha=1.0*arcsec,\n",
    "              sigma_delta=1.0*arcsec, Omega=0.0):\n",
    "    \n",
    "    \n",
    "    return -2 * np.pi * 1j * v * fourier_plane(u*1e-3, v*1e-3, a, delta_alpha, delta_delta, sigma_alpha,\n",
    "              sigma_delta, Omega)\n"
   ]
  },
  {
   "cell_type": "code",
   "execution_count": 3,
   "metadata": {},
   "outputs": [],
   "source": [
    "def fftspace(width, N):\n",
    "    '''Oftentimes it is necessary to get a symmetric coordinate array that spans ``N``\n",
    "     elements from `-width` to `+width`, but makes sure that the middle point lands\n",
    "     on ``0``. The indices go from ``0`` to ``N -1.``\n",
    "     `linspace` returns  the end points inclusive, wheras we want to leave out the\n",
    "     right endpoint, because we are sampling the function in a cyclic manner.'''\n",
    "\n",
    "    assert N % 2 == 0, \"N must be even.\"\n",
    "\n",
    "    dx = width * 2.0 / N\n",
    "    xx = np.empty(N, np.float)\n",
    "    for i in range(N):\n",
    "        xx[i] = -width + i * dx\n",
    "    \n",
    "    return xx"
   ]
  },
  {
   "cell_type": "code",
   "execution_count": 4,
   "metadata": {},
   "outputs": [
    {
     "data": {
      "image/png": "[encoded data removed]",
      "text/plain": [
       "<Figure size 432x288 with 1 Axes>"
      ]
     },
     "metadata": {
      "needs_background": "light"
     },
     "output_type": "display_data"
    }
   ],
   "source": [
    "# Let's plot this up and see what it looks like \n",
    "\n",
    "N_alpha = 128\n",
    "N_dec = 128\n",
    "img_radius = 15.0 * arcsec\n",
    "\n",
    "\n",
    "# full span of the image\n",
    "ra = fftspace(img_radius, N_alpha) # [arcsec]\n",
    "dec = fftspace(img_radius, N_dec) # [arcsec]\n",
    "\n",
    "# fill out an image \n",
    "img = np.empty((N_dec, N_alpha), np.float)\n",
    "\n",
    "for i,delta in enumerate(dec):\n",
    "    for j,alpha in enumerate(ra):\n",
    "        img[i,j] = sky_plane(alpha, delta)\n",
    "\n",
    "plt.imshow(img, origin=\"upper\", interpolation=\"none\", aspect=\"equal\")\n",
    "plt.xlabel(r\"$\\Delta \\alpha \\cos \\delta$\");\n",
    "plt.ylabel(r\"$\\Delta \\delta$\");"
   ]
  },
  {
   "cell_type": "code",
   "execution_count": 5,
   "metadata": {},
   "outputs": [
    {
     "name": "stdout",
     "output_type": "stream",
     "text": [
      "440.03158666047227\n"
     ]
    }
   ],
   "source": [
    "# calculate the maximum u and v points that our image grid can sample \n",
    "dRA = (2 * img_radius) / N_alpha # radians\n",
    "max_baseline = 1 / (2 * dRA) * 1e-3 # kilolambda, nyquist rate\n",
    "print(max_baseline) # kilolambda"
   ]
  },
  {
   "cell_type": "code",
   "execution_count": 6,
   "metadata": {},
   "outputs": [],
   "source": [
    "# create some fake baselines \n",
    "N_vis = 100\n",
    "\n",
    "u_data = np.random.normal(loc=0, scale=0.1 * max_baseline, size=N_vis)\n",
    "v_data = np.random.normal(loc=0, scale=0.1 * max_baseline, size=N_vis)\n",
    "\n",
    "data_points = np.array([u_data, v_data]).T\n",
    "\n",
    "# calculate the analytical values\n",
    "data_values = fourier_plane(u_data, v_data)"
   ]
  },
  {
   "cell_type": "code",
   "execution_count": 7,
   "metadata": {},
   "outputs": [
    {
     "data": {
      "text/plain": [
       "<matplotlib.collections.PathCollection at 0x111e89278>"
      ]
     },
     "execution_count": 7,
     "metadata": {},
     "output_type": "execute_result"
    },
    {
     "data": {
      "image/png": "[encoded data removed]",
      "text/plain": [
       "<Figure size 432x288 with 1 Axes>"
      ]
     },
     "metadata": {
      "needs_background": "light"
     },
     "output_type": "display_data"
    }
   ],
   "source": [
    "plt.scatter(u_data, v_data)"
   ]
  },
  {
   "cell_type": "code",
   "execution_count": 8,
   "metadata": {},
   "outputs": [],
   "source": [
    "# fixed quantities that we can pre-calculate before the Theano part \n",
    "# create a fixed image plane grid of ras, decs that properly oversamples your beam\n",
    "# these should already be fftshifted\n",
    "XX, YY = np.meshgrid(np.fft.fftshift(ra), np.fft.fftshift(dec))\n",
    "\n",
    "corrfun = gridding.corrfun_mat(np.fft.fftshift(ra), np.fft.fftshift(dec))\n",
    "\n",
    "# the (N_vis, 2) vector containing the u, v, baselines\n",
    "# data_points = np.array([[50.0, 10.0], [50.0, 0.0], [50.0, -1.0],\n",
    "#     [-50.0, 10.0], [5.0, 1.0], [-5.0, 1.0], [5.0, 20.0], [-5.0, -20.0]]) # k lambda\n",
    "# u_data, v_data = data_points.T\n",
    "# calculate analytical values\n",
    "# data_values = fourier_plane(u_data, v_data)\n",
    "\n",
    "us = np.fft.rfftfreq(N_alpha, d=(2 * img_radius)/N_alpha) * 1e-3  # convert to [kλ]\n",
    "vs = np.fft.fftfreq(N_dec, d=(2 * img_radius)/N_dec) * 1e-3  # convert to [kλ]\n",
    "\n",
    "# calculate and visualize the C_real and C_imag matrices\n",
    "# these are scipy csc sparse matrices\n",
    "C_real, C_imag = gridding.calc_matrices(data_points, us, vs)"
   ]
  },
  {
   "cell_type": "code",
   "execution_count": 11,
   "metadata": {},
   "outputs": [],
   "source": [
    "# generate these things with numpy commands that will be made into Theano objects\n",
    "# 1) calculate the RA and DEC coordinates of the image \n",
    "\n",
    "# create input grid\n",
    "# NOTE that these must be `fftshifted` already.\n",
    "# add an extra dimension for the later packing into the rfft\n",
    "alpha = XX[np.newaxis,:]\n",
    "dalpha = np.abs(alpha[0,0,1] - alpha[0,0,0])\n",
    "delta = YY[np.newaxis,:]\n",
    "ddelta = np.abs(delta[0,1,0] - delta[0,0,0])\n",
    "\n",
    "# 4) calculate the CSC matrix that interpolates the RFFT grid\n",
    "# Store them as theano shared variables, make sure it's sparse\n",
    "# TODO: make sure the shape is correct\n",
    "# C_real_sparse = theano.sparse.CSC(C_real.data, C_real.indices, C_real.indptr, C_real.shape)\n",
    "# C_imag_sparse = theano.sparse.CSC(C_imag.data, C_imag.indices, C_imag.indptr, C_imag.shape)\n",
    "\n",
    "# a : amplitude\n",
    "# delta_alpha : offset (in radians)\n",
    "# delta_delta : offset (in radians)\n",
    "# sigma_alpha : width (in radians)\n",
    "# sigma_delta : width (in radians)\n",
    "\n",
    "# calculate the sky-plane model\n",
    "a = tt.scalar(\"a\")\n",
    "delta_alpha = tt.scalar(\"delta_alpha\")\n",
    "delta_delta = tt.scalar(\"delta_delta\")\n",
    "sigma_alpha = tt.scalar(\"sigma_alpha\")\n",
    "sigma_delta = tt.scalar(\"sigma_delta\")\n",
    "\n",
    "# Calculate the sky-plane model\n",
    "# since the input coordinates were already shifted, then this is too\n",
    "I = a * tt.exp(-(alpha - delta_alpha)**2/(2 * sigma_alpha**2) - (delta - delta_delta)**2/(2 * sigma_delta**2))\n",
    "# I shape should be (1, N_dec, N_alpha)\n",
    "\n",
    "# taper the image with the gridding correction function\n",
    "# this should broadcast OK, since the trailing image dimensions match\n",
    "I_tapered = I * corrfun\n",
    "\n",
    "# I_func = theano.function([a, delta_alpha, delta_delta, sigma_alpha, sigma_delta], I)\n",
    "\n",
    "rfft = dalpha * ddelta * fft.rfft(I_tapered, norm=None)\n",
    "# output from the RFFT is (1, N_delta, N_alpha//2 + 1, 2)\n",
    "\n",
    "# flatten the RFFT output appopriately, taking the real and imag parts separately\n",
    "vis_real = rfft[0, :, :, 0].flatten() # real values \n",
    "# rshape = tt.shape(vis_real)\n",
    "# fshape = theano.function([a, delta_alpha, delta_delta, sigma_alpha, sigma_delta], rshape)\n",
    "vis_imag = rfft[0, :, :, 1].flatten() # imaginary values\n",
    "\n",
    "# interpolate the RFFT to the baselines\n",
    "# write a sparse matrix multiply\n",
    "interp_real = theano.sparse.dot(C_real, vis_real)\n",
    "interp_imag = theano.sparse.dot(C_imag, vis_imag)\n",
    "\n",
    "fvis_real = theano.function([a, delta_alpha, delta_delta, sigma_alpha, sigma_delta], interp_real)\n",
    "fvis_imag = theano.function([a, delta_alpha, delta_delta, sigma_alpha, sigma_delta], interp_imag)"
   ]
  },
  {
   "cell_type": "code",
   "execution_count": 12,
   "metadata": {},
   "outputs": [],
   "source": [
    "out_real = fvis_real(1, 1.0 * arcsec, 1.0 * arcsec, 1.0*arcsec, 1.0*arcsec)\n",
    "out_imag = fvis_imag(1, 1.0 * arcsec, 1.0 * arcsec, 1.0*arcsec, 1.0*arcsec)"
   ]
  },
  {
   "cell_type": "code",
   "execution_count": 13,
   "metadata": {},
   "outputs": [
    {
     "data": {
      "image/png": "[encoded data removed]",
      "text/plain": [
       "<Figure size 288x360 with 4 Axes>"
      ]
     },
     "metadata": {
      "needs_background": "light"
     },
     "output_type": "display_data"
    }
   ],
   "source": [
    "fig, ax = plt.subplots(nrows=4, figsize=(4,5))\n",
    "ax[0].plot(np.real(data_values), \".\", ms=4)\n",
    "ax[0].plot(out_real, \".\", ms=3)\n",
    "ax[0].set_ylabel(\"real\")\n",
    "ax[1].plot(out_real - np.real(data_values), \".\")\n",
    "ax[1].set_ylabel(\"real diff\")\n",
    "ax[2].plot(np.imag(data_values), \".\", ms=4)\n",
    "ax[2].plot(out_imag, \".\", ms=3)\n",
    "ax[2].set_ylabel(\"imag\")\n",
    "ax[3].plot(out_imag - np.imag(data_values), \".\")\n",
    "ax[3].set_ylabel(\"imag diff\");\n",
    "# fig.subplots_adjust(hspace=0.4, left=0.2)\n",
    "# fig.savefig(\"real_comp.png\", dpi=300)\n"
   ]
  },
  {
   "cell_type": "markdown",
   "metadata": {},
   "source": [
    "# Gradients \n",
    "\n",
    "calculate the gradients and compare them to the gradients calculated analytically\n",
    "\n",
    "First, let's check $\\delta_\\alpha$"
   ]
  },
  {
   "cell_type": "code",
   "execution_count": 14,
   "metadata": {},
   "outputs": [
    {
     "data": {
      "text/plain": [
       "Shape.0"
      ]
     },
     "execution_count": 14,
     "metadata": {},
     "output_type": "execute_result"
    }
   ],
   "source": [
    "vis_real[0].shape"
   ]
  },
  {
   "cell_type": "code",
   "execution_count": 15,
   "metadata": {},
   "outputs": [
    {
     "ename": "ValueError",
     "evalue": "('You cannot drop a non-broadcastable dimension.', ((False, True, True), []))",
     "output_type": "error",
     "traceback": [
      "\u001b[0;31m---------------------------------------------------------------------------\u001b[0m",
      "\u001b[0;31mValueError\u001b[0m                                Traceback (most recent call last)",
      "\u001b[0;32m<ipython-input-15-2f2db0d1d7bf>\u001b[0m in \u001b[0;36m<module>\u001b[0;34m\u001b[0m\n\u001b[0;32m----> 1\u001b[0;31m \u001b[0mtt\u001b[0m\u001b[0;34m.\u001b[0m\u001b[0mgrad\u001b[0m\u001b[0;34m(\u001b[0m\u001b[0mvis_real\u001b[0m\u001b[0;34m[\u001b[0m\u001b[0;36m0\u001b[0m\u001b[0;34m]\u001b[0m\u001b[0;34m,\u001b[0m \u001b[0mdelta_alpha\u001b[0m\u001b[0;34m)\u001b[0m\u001b[0;34m\u001b[0m\u001b[0;34m\u001b[0m\u001b[0m\n\u001b[0m",
      "\u001b[0;32m~/.build/miniconda3/lib/python3.7/site-packages/theano/gradient.py\u001b[0m in \u001b[0;36mgrad\u001b[0;34m(cost, wrt, consider_constant, disconnected_inputs, add_names, known_grads, return_disconnected, null_gradients)\u001b[0m\n\u001b[1;32m    603\u001b[0m \u001b[0;34m\u001b[0m\u001b[0m\n\u001b[1;32m    604\u001b[0m     rval = _populate_grad_dict(var_to_app_to_idx,\n\u001b[0;32m--> 605\u001b[0;31m                                grad_dict, wrt, cost_name)\n\u001b[0m\u001b[1;32m    606\u001b[0m \u001b[0;34m\u001b[0m\u001b[0m\n\u001b[1;32m    607\u001b[0m     \u001b[0;32mfor\u001b[0m \u001b[0mi\u001b[0m \u001b[0;32min\u001b[0m \u001b[0mxrange\u001b[0m\u001b[0;34m(\u001b[0m\u001b[0mlen\u001b[0m\u001b[0;34m(\u001b[0m\u001b[0mrval\u001b[0m\u001b[0;34m)\u001b[0m\u001b[0;34m)\u001b[0m\u001b[0;34m:\u001b[0m\u001b[0;34m\u001b[0m\u001b[0;34m\u001b[0m\u001b[0m\n",
      "\u001b[0;32m~/.build/miniconda3/lib/python3.7/site-packages/theano/gradient.py\u001b[0m in \u001b[0;36m_populate_grad_dict\u001b[0;34m(var_to_app_to_idx, grad_dict, wrt, cost_name)\u001b[0m\n\u001b[1;32m   1369\u001b[0m         \u001b[0;32mreturn\u001b[0m \u001b[0mgrad_dict\u001b[0m\u001b[0;34m[\u001b[0m\u001b[0mvar\u001b[0m\u001b[0;34m]\u001b[0m\u001b[0;34m\u001b[0m\u001b[0;34m\u001b[0m\u001b[0m\n\u001b[1;32m   1370\u001b[0m \u001b[0;34m\u001b[0m\u001b[0m\n\u001b[0;32m-> 1371\u001b[0;31m     \u001b[0mrval\u001b[0m \u001b[0;34m=\u001b[0m \u001b[0;34m[\u001b[0m\u001b[0maccess_grad_cache\u001b[0m\u001b[0;34m(\u001b[0m\u001b[0melem\u001b[0m\u001b[0;34m)\u001b[0m \u001b[0;32mfor\u001b[0m \u001b[0melem\u001b[0m \u001b[0;32min\u001b[0m \u001b[0mwrt\u001b[0m\u001b[0;34m]\u001b[0m\u001b[0;34m\u001b[0m\u001b[0;34m\u001b[0m\u001b[0m\n\u001b[0m\u001b[1;32m   1372\u001b[0m \u001b[0;34m\u001b[0m\u001b[0m\n\u001b[1;32m   1373\u001b[0m     \u001b[0;32mreturn\u001b[0m \u001b[0mrval\u001b[0m\u001b[0;34m\u001b[0m\u001b[0;34m\u001b[0m\u001b[0m\n",
      "\u001b[0;32m~/.build/miniconda3/lib/python3.7/site-packages/theano/gradient.py\u001b[0m in \u001b[0;36m<listcomp>\u001b[0;34m(.0)\u001b[0m\n\u001b[1;32m   1369\u001b[0m         \u001b[0;32mreturn\u001b[0m \u001b[0mgrad_dict\u001b[0m\u001b[0;34m[\u001b[0m\u001b[0mvar\u001b[0m\u001b[0;34m]\u001b[0m\u001b[0;34m\u001b[0m\u001b[0;34m\u001b[0m\u001b[0m\n\u001b[1;32m   1370\u001b[0m \u001b[0;34m\u001b[0m\u001b[0m\n\u001b[0;32m-> 1371\u001b[0;31m     \u001b[0mrval\u001b[0m \u001b[0;34m=\u001b[0m \u001b[0;34m[\u001b[0m\u001b[0maccess_grad_cache\u001b[0m\u001b[0;34m(\u001b[0m\u001b[0melem\u001b[0m\u001b[0;34m)\u001b[0m \u001b[0;32mfor\u001b[0m \u001b[0melem\u001b[0m \u001b[0;32min\u001b[0m \u001b[0mwrt\u001b[0m\u001b[0;34m]\u001b[0m\u001b[0;34m\u001b[0m\u001b[0;34m\u001b[0m\u001b[0m\n\u001b[0m\u001b[1;32m   1372\u001b[0m \u001b[0;34m\u001b[0m\u001b[0m\n\u001b[1;32m   1373\u001b[0m     \u001b[0;32mreturn\u001b[0m \u001b[0mrval\u001b[0m\u001b[0;34m\u001b[0m\u001b[0;34m\u001b[0m\u001b[0m\n",
      "\u001b[0;32m~/.build/miniconda3/lib/python3.7/site-packages/theano/gradient.py\u001b[0m in \u001b[0;36maccess_grad_cache\u001b[0;34m(var)\u001b[0m\n\u001b[1;32m   1324\u001b[0m                     \u001b[0;32mfor\u001b[0m \u001b[0midx\u001b[0m \u001b[0;32min\u001b[0m \u001b[0mnode_to_idx\u001b[0m\u001b[0;34m[\u001b[0m\u001b[0mnode\u001b[0m\u001b[0;34m]\u001b[0m\u001b[0;34m:\u001b[0m\u001b[0;34m\u001b[0m\u001b[0;34m\u001b[0m\u001b[0m\n\u001b[1;32m   1325\u001b[0m \u001b[0;34m\u001b[0m\u001b[0m\n\u001b[0;32m-> 1326\u001b[0;31m                         \u001b[0mterm\u001b[0m \u001b[0;34m=\u001b[0m \u001b[0maccess_term_cache\u001b[0m\u001b[0;34m(\u001b[0m\u001b[0mnode\u001b[0m\u001b[0;34m)\u001b[0m\u001b[0;34m[\u001b[0m\u001b[0midx\u001b[0m\u001b[0;34m]\u001b[0m\u001b[0;34m\u001b[0m\u001b[0;34m\u001b[0m\u001b[0m\n\u001b[0m\u001b[1;32m   1327\u001b[0m \u001b[0;34m\u001b[0m\u001b[0m\n\u001b[1;32m   1328\u001b[0m                         \u001b[0;32mif\u001b[0m \u001b[0;32mnot\u001b[0m \u001b[0misinstance\u001b[0m\u001b[0;34m(\u001b[0m\u001b[0mterm\u001b[0m\u001b[0;34m,\u001b[0m \u001b[0mgof\u001b[0m\u001b[0;34m.\u001b[0m\u001b[0mVariable\u001b[0m\u001b[0;34m)\u001b[0m\u001b[0;34m:\u001b[0m\u001b[0;34m\u001b[0m\u001b[0;34m\u001b[0m\u001b[0m\n",
      "\u001b[0;32m~/.build/miniconda3/lib/python3.7/site-packages/theano/gradient.py\u001b[0m in \u001b[0;36maccess_term_cache\u001b[0;34m(node)\u001b[0m\n\u001b[1;32m   1160\u001b[0m \u001b[0;34m\u001b[0m\u001b[0m\n\u001b[1;32m   1161\u001b[0m                 input_grads = node.op.L_op(inputs, node.outputs,\n\u001b[0;32m-> 1162\u001b[0;31m                                            new_output_grads)\n\u001b[0m\u001b[1;32m   1163\u001b[0m \u001b[0;34m\u001b[0m\u001b[0m\n\u001b[1;32m   1164\u001b[0m                 \u001b[0;32mif\u001b[0m \u001b[0minput_grads\u001b[0m \u001b[0;32mis\u001b[0m \u001b[0;32mNone\u001b[0m\u001b[0;34m:\u001b[0m\u001b[0;34m\u001b[0m\u001b[0;34m\u001b[0m\u001b[0m\n",
      "\u001b[0;32m~/.build/miniconda3/lib/python3.7/site-packages/theano/gof/op.py\u001b[0m in \u001b[0;36mL_op\u001b[0;34m(self, inputs, outputs, output_grads)\u001b[0m\n\u001b[1;32m    709\u001b[0m \u001b[0;34m\u001b[0m\u001b[0m\n\u001b[1;32m    710\u001b[0m     \u001b[0;32mdef\u001b[0m \u001b[0mL_op\u001b[0m\u001b[0;34m(\u001b[0m\u001b[0mself\u001b[0m\u001b[0;34m,\u001b[0m \u001b[0minputs\u001b[0m\u001b[0;34m,\u001b[0m \u001b[0moutputs\u001b[0m\u001b[0;34m,\u001b[0m \u001b[0moutput_grads\u001b[0m\u001b[0;34m)\u001b[0m\u001b[0;34m:\u001b[0m\u001b[0;34m\u001b[0m\u001b[0;34m\u001b[0m\u001b[0m\n\u001b[0;32m--> 711\u001b[0;31m         \u001b[0;32mreturn\u001b[0m \u001b[0mself\u001b[0m\u001b[0;34m.\u001b[0m\u001b[0mgrad\u001b[0m\u001b[0;34m(\u001b[0m\u001b[0minputs\u001b[0m\u001b[0;34m,\u001b[0m \u001b[0moutput_grads\u001b[0m\u001b[0;34m)\u001b[0m\u001b[0;34m\u001b[0m\u001b[0;34m\u001b[0m\u001b[0m\n\u001b[0m\u001b[1;32m    712\u001b[0m \u001b[0;34m\u001b[0m\u001b[0m\n\u001b[1;32m    713\u001b[0m     \u001b[0;32mdef\u001b[0m \u001b[0mR_op\u001b[0m\u001b[0;34m(\u001b[0m\u001b[0mself\u001b[0m\u001b[0;34m,\u001b[0m \u001b[0minputs\u001b[0m\u001b[0;34m,\u001b[0m \u001b[0meval_points\u001b[0m\u001b[0;34m)\u001b[0m\u001b[0;34m:\u001b[0m\u001b[0;34m\u001b[0m\u001b[0;34m\u001b[0m\u001b[0m\n",
      "\u001b[0;32m~/.build/miniconda3/lib/python3.7/site-packages/theano/tensor/elemwise.py\u001b[0m in \u001b[0;36mgrad\u001b[0;34m(self, inp, grads)\u001b[0m\n\u001b[1;32m    303\u001b[0m             \u001b[0;32mreturn\u001b[0m \u001b[0;34m[\u001b[0m\u001b[0minp\u001b[0m\u001b[0;34m[\u001b[0m\u001b[0;36m0\u001b[0m\u001b[0;34m]\u001b[0m\u001b[0;34m.\u001b[0m\u001b[0mzeros_like\u001b[0m\u001b[0;34m(\u001b[0m\u001b[0mdtype\u001b[0m\u001b[0;34m=\u001b[0m\u001b[0mtheano\u001b[0m\u001b[0;34m.\u001b[0m\u001b[0mconfig\u001b[0m\u001b[0;34m.\u001b[0m\u001b[0mfloatX\u001b[0m\u001b[0;34m)\u001b[0m\u001b[0;34m]\u001b[0m\u001b[0;34m\u001b[0m\u001b[0;34m\u001b[0m\u001b[0m\n\u001b[1;32m    304\u001b[0m         \u001b[0;32melse\u001b[0m\u001b[0;34m:\u001b[0m\u001b[0;34m\u001b[0m\u001b[0;34m\u001b[0m\u001b[0m\n\u001b[0;32m--> 305\u001b[0;31m             return [DimShuffle(gz.type.broadcastable, grad_order)(\n\u001b[0m\u001b[1;32m    306\u001b[0m                 Elemwise(scalar.identity)(gz))]\n\u001b[1;32m    307\u001b[0m \u001b[0;34m\u001b[0m\u001b[0m\n",
      "\u001b[0;32m~/.build/miniconda3/lib/python3.7/site-packages/theano/tensor/elemwise.py\u001b[0m in \u001b[0;36m__init__\u001b[0;34m(self, input_broadcastable, new_order, inplace)\u001b[0m\n\u001b[1;32m    195\u001b[0m                     raise ValueError(\n\u001b[1;32m    196\u001b[0m                         \u001b[0;34m\"You cannot drop a non-broadcastable dimension.\"\u001b[0m\u001b[0;34m,\u001b[0m\u001b[0;34m\u001b[0m\u001b[0;34m\u001b[0m\u001b[0m\n\u001b[0;32m--> 197\u001b[0;31m                         (input_broadcastable, new_order))\n\u001b[0m\u001b[1;32m    198\u001b[0m \u001b[0;34m\u001b[0m\u001b[0m\n\u001b[1;32m    199\u001b[0m         \u001b[0;31m# this is the list of the original dimensions that we keep\u001b[0m\u001b[0;34m\u001b[0m\u001b[0;34m\u001b[0m\u001b[0;34m\u001b[0m\u001b[0m\n",
      "\u001b[0;31mValueError\u001b[0m: ('You cannot drop a non-broadcastable dimension.', ((False, True, True), []))"
     ]
    }
   ],
   "source": [
    "tt.grad(vis_real[0], delta_alpha)"
   ]
  },
  {
   "cell_type": "code",
   "execution_count": 26,
   "metadata": {},
   "outputs": [
    {
     "ename": "ValueError",
     "evalue": "('You cannot drop a non-broadcastable dimension.', ((False, True, True), []))",
     "output_type": "error",
     "traceback": [
      "\u001b[0;31m---------------------------------------------------------------------------\u001b[0m",
      "\u001b[0;31mValueError\u001b[0m                                Traceback (most recent call last)",
      "\u001b[0;32m<ipython-input-26-7b0e46dd0045>\u001b[0m in \u001b[0;36m<module>\u001b[0;34m\u001b[0m\n\u001b[1;32m      1\u001b[0m \u001b[0;31m# gradients of arrays need to be written like this in Theano\u001b[0m\u001b[0;34m\u001b[0m\u001b[0;34m\u001b[0m\u001b[0;34m\u001b[0m\u001b[0m\n\u001b[1;32m      2\u001b[0m J, updates = theano.scan(lambda i, interp_real, delta_alpha : tt.grad(interp_real[i], delta_alpha), \\\n\u001b[0;32m----> 3\u001b[0;31m                          sequences=tt.arange(interp_real.shape[0]), non_sequences=[interp_real, delta_alpha])\n\u001b[0m\u001b[1;32m      4\u001b[0m \u001b[0;34m\u001b[0m\u001b[0m\n\u001b[1;32m      5\u001b[0m \u001b[0mf_real\u001b[0m \u001b[0;34m=\u001b[0m \u001b[0mtheano\u001b[0m\u001b[0;34m.\u001b[0m\u001b[0mfunction\u001b[0m\u001b[0;34m(\u001b[0m\u001b[0;34m[\u001b[0m\u001b[0ma\u001b[0m\u001b[0;34m,\u001b[0m \u001b[0mdelta_alpha\u001b[0m\u001b[0;34m,\u001b[0m \u001b[0mdelta_delta\u001b[0m\u001b[0;34m,\u001b[0m \u001b[0msigma_alpha\u001b[0m\u001b[0;34m,\u001b[0m \u001b[0msigma_delta\u001b[0m\u001b[0;34m]\u001b[0m\u001b[0;34m,\u001b[0m \u001b[0mJ\u001b[0m\u001b[0;34m,\u001b[0m \u001b[0mupdates\u001b[0m\u001b[0;34m=\u001b[0m\u001b[0mupdates\u001b[0m\u001b[0;34m)\u001b[0m\u001b[0;34m\u001b[0m\u001b[0;34m\u001b[0m\u001b[0m\n",
      "\u001b[0;32m~/.build/anaconda/lib/python3.7/site-packages/theano/scan_module/scan.py\u001b[0m in \u001b[0;36mscan\u001b[0;34m(fn, sequences, outputs_info, non_sequences, n_steps, truncate_gradient, go_backwards, mode, name, profile, allow_gc, strict, return_list)\u001b[0m\n\u001b[1;32m    772\u001b[0m     \u001b[0;31m# and outputs that needs to be separated\u001b[0m\u001b[0;34m\u001b[0m\u001b[0;34m\u001b[0m\u001b[0;34m\u001b[0m\u001b[0m\n\u001b[1;32m    773\u001b[0m \u001b[0;34m\u001b[0m\u001b[0m\n\u001b[0;32m--> 774\u001b[0;31m     \u001b[0mcondition\u001b[0m\u001b[0;34m,\u001b[0m \u001b[0moutputs\u001b[0m\u001b[0;34m,\u001b[0m \u001b[0mupdates\u001b[0m \u001b[0;34m=\u001b[0m \u001b[0mscan_utils\u001b[0m\u001b[0;34m.\u001b[0m\u001b[0mget_updates_and_outputs\u001b[0m\u001b[0;34m(\u001b[0m\u001b[0mfn\u001b[0m\u001b[0;34m(\u001b[0m\u001b[0;34m*\u001b[0m\u001b[0margs\u001b[0m\u001b[0;34m)\u001b[0m\u001b[0;34m)\u001b[0m\u001b[0;34m\u001b[0m\u001b[0;34m\u001b[0m\u001b[0m\n\u001b[0m\u001b[1;32m    775\u001b[0m     \u001b[0;32mif\u001b[0m \u001b[0mcondition\u001b[0m \u001b[0;32mis\u001b[0m \u001b[0;32mnot\u001b[0m \u001b[0;32mNone\u001b[0m\u001b[0;34m:\u001b[0m\u001b[0;34m\u001b[0m\u001b[0;34m\u001b[0m\u001b[0m\n\u001b[1;32m    776\u001b[0m         \u001b[0mas_while\u001b[0m \u001b[0;34m=\u001b[0m \u001b[0;32mTrue\u001b[0m\u001b[0;34m\u001b[0m\u001b[0;34m\u001b[0m\u001b[0m\n",
      "\u001b[0;32m<ipython-input-26-7b0e46dd0045>\u001b[0m in \u001b[0;36m<lambda>\u001b[0;34m(i, interp_real, delta_alpha)\u001b[0m\n\u001b[1;32m      1\u001b[0m \u001b[0;31m# gradients of arrays need to be written like this in Theano\u001b[0m\u001b[0;34m\u001b[0m\u001b[0;34m\u001b[0m\u001b[0;34m\u001b[0m\u001b[0m\n\u001b[0;32m----> 2\u001b[0;31m J, updates = theano.scan(lambda i, interp_real, delta_alpha : tt.grad(interp_real[i], delta_alpha), \\\n\u001b[0m\u001b[1;32m      3\u001b[0m                          sequences=tt.arange(interp_real.shape[0]), non_sequences=[interp_real, delta_alpha])\n\u001b[1;32m      4\u001b[0m \u001b[0;34m\u001b[0m\u001b[0m\n\u001b[1;32m      5\u001b[0m \u001b[0mf_real\u001b[0m \u001b[0;34m=\u001b[0m \u001b[0mtheano\u001b[0m\u001b[0;34m.\u001b[0m\u001b[0mfunction\u001b[0m\u001b[0;34m(\u001b[0m\u001b[0;34m[\u001b[0m\u001b[0ma\u001b[0m\u001b[0;34m,\u001b[0m \u001b[0mdelta_alpha\u001b[0m\u001b[0;34m,\u001b[0m \u001b[0mdelta_delta\u001b[0m\u001b[0;34m,\u001b[0m \u001b[0msigma_alpha\u001b[0m\u001b[0;34m,\u001b[0m \u001b[0msigma_delta\u001b[0m\u001b[0;34m]\u001b[0m\u001b[0;34m,\u001b[0m \u001b[0mJ\u001b[0m\u001b[0;34m,\u001b[0m \u001b[0mupdates\u001b[0m\u001b[0;34m=\u001b[0m\u001b[0mupdates\u001b[0m\u001b[0;34m)\u001b[0m\u001b[0;34m\u001b[0m\u001b[0;34m\u001b[0m\u001b[0m\n",
      "\u001b[0;32m~/.build/anaconda/lib/python3.7/site-packages/theano/gradient.py\u001b[0m in \u001b[0;36mgrad\u001b[0;34m(cost, wrt, consider_constant, disconnected_inputs, add_names, known_grads, return_disconnected, null_gradients)\u001b[0m\n\u001b[1;32m    603\u001b[0m \u001b[0;34m\u001b[0m\u001b[0m\n\u001b[1;32m    604\u001b[0m     rval = _populate_grad_dict(var_to_app_to_idx,\n\u001b[0;32m--> 605\u001b[0;31m                                grad_dict, wrt, cost_name)\n\u001b[0m\u001b[1;32m    606\u001b[0m \u001b[0;34m\u001b[0m\u001b[0m\n\u001b[1;32m    607\u001b[0m     \u001b[0;32mfor\u001b[0m \u001b[0mi\u001b[0m \u001b[0;32min\u001b[0m \u001b[0mxrange\u001b[0m\u001b[0;34m(\u001b[0m\u001b[0mlen\u001b[0m\u001b[0;34m(\u001b[0m\u001b[0mrval\u001b[0m\u001b[0;34m)\u001b[0m\u001b[0;34m)\u001b[0m\u001b[0;34m:\u001b[0m\u001b[0;34m\u001b[0m\u001b[0;34m\u001b[0m\u001b[0m\n",
      "\u001b[0;32m~/.build/anaconda/lib/python3.7/site-packages/theano/gradient.py\u001b[0m in \u001b[0;36m_populate_grad_dict\u001b[0;34m(var_to_app_to_idx, grad_dict, wrt, cost_name)\u001b[0m\n\u001b[1;32m   1369\u001b[0m         \u001b[0;32mreturn\u001b[0m \u001b[0mgrad_dict\u001b[0m\u001b[0;34m[\u001b[0m\u001b[0mvar\u001b[0m\u001b[0;34m]\u001b[0m\u001b[0;34m\u001b[0m\u001b[0;34m\u001b[0m\u001b[0m\n\u001b[1;32m   1370\u001b[0m \u001b[0;34m\u001b[0m\u001b[0m\n\u001b[0;32m-> 1371\u001b[0;31m     \u001b[0mrval\u001b[0m \u001b[0;34m=\u001b[0m \u001b[0;34m[\u001b[0m\u001b[0maccess_grad_cache\u001b[0m\u001b[0;34m(\u001b[0m\u001b[0melem\u001b[0m\u001b[0;34m)\u001b[0m \u001b[0;32mfor\u001b[0m \u001b[0melem\u001b[0m \u001b[0;32min\u001b[0m \u001b[0mwrt\u001b[0m\u001b[0;34m]\u001b[0m\u001b[0;34m\u001b[0m\u001b[0;34m\u001b[0m\u001b[0m\n\u001b[0m\u001b[1;32m   1372\u001b[0m \u001b[0;34m\u001b[0m\u001b[0m\n\u001b[1;32m   1373\u001b[0m     \u001b[0;32mreturn\u001b[0m \u001b[0mrval\u001b[0m\u001b[0;34m\u001b[0m\u001b[0;34m\u001b[0m\u001b[0m\n",
      "\u001b[0;32m~/.build/anaconda/lib/python3.7/site-packages/theano/gradient.py\u001b[0m in \u001b[0;36m<listcomp>\u001b[0;34m(.0)\u001b[0m\n\u001b[1;32m   1369\u001b[0m         \u001b[0;32mreturn\u001b[0m \u001b[0mgrad_dict\u001b[0m\u001b[0;34m[\u001b[0m\u001b[0mvar\u001b[0m\u001b[0;34m]\u001b[0m\u001b[0;34m\u001b[0m\u001b[0;34m\u001b[0m\u001b[0m\n\u001b[1;32m   1370\u001b[0m \u001b[0;34m\u001b[0m\u001b[0m\n\u001b[0;32m-> 1371\u001b[0;31m     \u001b[0mrval\u001b[0m \u001b[0;34m=\u001b[0m \u001b[0;34m[\u001b[0m\u001b[0maccess_grad_cache\u001b[0m\u001b[0;34m(\u001b[0m\u001b[0melem\u001b[0m\u001b[0;34m)\u001b[0m \u001b[0;32mfor\u001b[0m \u001b[0melem\u001b[0m \u001b[0;32min\u001b[0m \u001b[0mwrt\u001b[0m\u001b[0;34m]\u001b[0m\u001b[0;34m\u001b[0m\u001b[0;34m\u001b[0m\u001b[0m\n\u001b[0m\u001b[1;32m   1372\u001b[0m \u001b[0;34m\u001b[0m\u001b[0m\n\u001b[1;32m   1373\u001b[0m     \u001b[0;32mreturn\u001b[0m \u001b[0mrval\u001b[0m\u001b[0;34m\u001b[0m\u001b[0;34m\u001b[0m\u001b[0m\n",
      "\u001b[0;32m~/.build/anaconda/lib/python3.7/site-packages/theano/gradient.py\u001b[0m in \u001b[0;36maccess_grad_cache\u001b[0;34m(var)\u001b[0m\n\u001b[1;32m   1324\u001b[0m                     \u001b[0;32mfor\u001b[0m \u001b[0midx\u001b[0m \u001b[0;32min\u001b[0m \u001b[0mnode_to_idx\u001b[0m\u001b[0;34m[\u001b[0m\u001b[0mnode\u001b[0m\u001b[0;34m]\u001b[0m\u001b[0;34m:\u001b[0m\u001b[0;34m\u001b[0m\u001b[0;34m\u001b[0m\u001b[0m\n\u001b[1;32m   1325\u001b[0m \u001b[0;34m\u001b[0m\u001b[0m\n\u001b[0;32m-> 1326\u001b[0;31m                         \u001b[0mterm\u001b[0m \u001b[0;34m=\u001b[0m \u001b[0maccess_term_cache\u001b[0m\u001b[0;34m(\u001b[0m\u001b[0mnode\u001b[0m\u001b[0;34m)\u001b[0m\u001b[0;34m[\u001b[0m\u001b[0midx\u001b[0m\u001b[0;34m]\u001b[0m\u001b[0;34m\u001b[0m\u001b[0;34m\u001b[0m\u001b[0m\n\u001b[0m\u001b[1;32m   1327\u001b[0m \u001b[0;34m\u001b[0m\u001b[0m\n\u001b[1;32m   1328\u001b[0m                         \u001b[0;32mif\u001b[0m \u001b[0;32mnot\u001b[0m \u001b[0misinstance\u001b[0m\u001b[0;34m(\u001b[0m\u001b[0mterm\u001b[0m\u001b[0;34m,\u001b[0m \u001b[0mgof\u001b[0m\u001b[0;34m.\u001b[0m\u001b[0mVariable\u001b[0m\u001b[0;34m)\u001b[0m\u001b[0;34m:\u001b[0m\u001b[0;34m\u001b[0m\u001b[0;34m\u001b[0m\u001b[0m\n",
      "\u001b[0;32m~/.build/anaconda/lib/python3.7/site-packages/theano/gradient.py\u001b[0m in \u001b[0;36maccess_term_cache\u001b[0;34m(node)\u001b[0m\n\u001b[1;32m   1160\u001b[0m \u001b[0;34m\u001b[0m\u001b[0m\n\u001b[1;32m   1161\u001b[0m                 input_grads = node.op.L_op(inputs, node.outputs,\n\u001b[0;32m-> 1162\u001b[0;31m                                            new_output_grads)\n\u001b[0m\u001b[1;32m   1163\u001b[0m \u001b[0;34m\u001b[0m\u001b[0m\n\u001b[1;32m   1164\u001b[0m                 \u001b[0;32mif\u001b[0m \u001b[0minput_grads\u001b[0m \u001b[0;32mis\u001b[0m \u001b[0;32mNone\u001b[0m\u001b[0;34m:\u001b[0m\u001b[0;34m\u001b[0m\u001b[0;34m\u001b[0m\u001b[0m\n",
      "\u001b[0;32m~/.build/anaconda/lib/python3.7/site-packages/theano/gof/op.py\u001b[0m in \u001b[0;36mL_op\u001b[0;34m(self, inputs, outputs, output_grads)\u001b[0m\n\u001b[1;32m    709\u001b[0m \u001b[0;34m\u001b[0m\u001b[0m\n\u001b[1;32m    710\u001b[0m     \u001b[0;32mdef\u001b[0m \u001b[0mL_op\u001b[0m\u001b[0;34m(\u001b[0m\u001b[0mself\u001b[0m\u001b[0;34m,\u001b[0m \u001b[0minputs\u001b[0m\u001b[0;34m,\u001b[0m \u001b[0moutputs\u001b[0m\u001b[0;34m,\u001b[0m \u001b[0moutput_grads\u001b[0m\u001b[0;34m)\u001b[0m\u001b[0;34m:\u001b[0m\u001b[0;34m\u001b[0m\u001b[0;34m\u001b[0m\u001b[0m\n\u001b[0;32m--> 711\u001b[0;31m         \u001b[0;32mreturn\u001b[0m \u001b[0mself\u001b[0m\u001b[0;34m.\u001b[0m\u001b[0mgrad\u001b[0m\u001b[0;34m(\u001b[0m\u001b[0minputs\u001b[0m\u001b[0;34m,\u001b[0m \u001b[0moutput_grads\u001b[0m\u001b[0;34m)\u001b[0m\u001b[0;34m\u001b[0m\u001b[0;34m\u001b[0m\u001b[0m\n\u001b[0m\u001b[1;32m    712\u001b[0m \u001b[0;34m\u001b[0m\u001b[0m\n\u001b[1;32m    713\u001b[0m     \u001b[0;32mdef\u001b[0m \u001b[0mR_op\u001b[0m\u001b[0;34m(\u001b[0m\u001b[0mself\u001b[0m\u001b[0;34m,\u001b[0m \u001b[0minputs\u001b[0m\u001b[0;34m,\u001b[0m \u001b[0meval_points\u001b[0m\u001b[0;34m)\u001b[0m\u001b[0;34m:\u001b[0m\u001b[0;34m\u001b[0m\u001b[0;34m\u001b[0m\u001b[0m\n",
      "\u001b[0;32m~/.build/anaconda/lib/python3.7/site-packages/theano/tensor/elemwise.py\u001b[0m in \u001b[0;36mgrad\u001b[0;34m(self, inp, grads)\u001b[0m\n\u001b[1;32m    303\u001b[0m             \u001b[0;32mreturn\u001b[0m \u001b[0;34m[\u001b[0m\u001b[0minp\u001b[0m\u001b[0;34m[\u001b[0m\u001b[0;36m0\u001b[0m\u001b[0;34m]\u001b[0m\u001b[0;34m.\u001b[0m\u001b[0mzeros_like\u001b[0m\u001b[0;34m(\u001b[0m\u001b[0mdtype\u001b[0m\u001b[0;34m=\u001b[0m\u001b[0mtheano\u001b[0m\u001b[0;34m.\u001b[0m\u001b[0mconfig\u001b[0m\u001b[0;34m.\u001b[0m\u001b[0mfloatX\u001b[0m\u001b[0;34m)\u001b[0m\u001b[0;34m]\u001b[0m\u001b[0;34m\u001b[0m\u001b[0;34m\u001b[0m\u001b[0m\n\u001b[1;32m    304\u001b[0m         \u001b[0;32melse\u001b[0m\u001b[0;34m:\u001b[0m\u001b[0;34m\u001b[0m\u001b[0;34m\u001b[0m\u001b[0m\n\u001b[0;32m--> 305\u001b[0;31m             return [DimShuffle(gz.type.broadcastable, grad_order)(\n\u001b[0m\u001b[1;32m    306\u001b[0m                 Elemwise(scalar.identity)(gz))]\n\u001b[1;32m    307\u001b[0m \u001b[0;34m\u001b[0m\u001b[0m\n",
      "\u001b[0;32m~/.build/anaconda/lib/python3.7/site-packages/theano/tensor/elemwise.py\u001b[0m in \u001b[0;36m__init__\u001b[0;34m(self, input_broadcastable, new_order, inplace)\u001b[0m\n\u001b[1;32m    195\u001b[0m                     raise ValueError(\n\u001b[1;32m    196\u001b[0m                         \u001b[0;34m\"You cannot drop a non-broadcastable dimension.\"\u001b[0m\u001b[0;34m,\u001b[0m\u001b[0;34m\u001b[0m\u001b[0;34m\u001b[0m\u001b[0m\n\u001b[0;32m--> 197\u001b[0;31m                         (input_broadcastable, new_order))\n\u001b[0m\u001b[1;32m    198\u001b[0m \u001b[0;34m\u001b[0m\u001b[0m\n\u001b[1;32m    199\u001b[0m         \u001b[0;31m# this is the list of the original dimensions that we keep\u001b[0m\u001b[0;34m\u001b[0m\u001b[0;34m\u001b[0m\u001b[0;34m\u001b[0m\u001b[0m\n",
      "\u001b[0;31mValueError\u001b[0m: ('You cannot drop a non-broadcastable dimension.', ((False, True, True), []))"
     ]
    }
   ],
   "source": [
    "# gradients of arrays need to be written like this in Theano\n",
    "J, updates = theano.scan(lambda i, interp_real, delta_alpha : tt.grad(interp_real[i], delta_alpha), \\\n",
    "                         sequences=tt.arange(interp_real.shape[0]), non_sequences=[interp_real, delta_alpha])\n",
    "\n",
    "f_real = theano.function([a, delta_alpha, delta_delta, sigma_alpha, sigma_delta], J, updates=updates)"
   ]
  },
  {
   "cell_type": "code",
   "execution_count": 23,
   "metadata": {},
   "outputs": [
    {
     "name": "stderr",
     "output_type": "stream",
     "text": [
      "/home/ian/.build/anaconda/lib/python3.7/site-packages/theano/scan_module/scan_perform_ext.py:76: UserWarning: The file scan_perform.c is not available. This donot happen normally. You are probably in a strangesetup. This mean Theano can not use the cython code for scan. If youwant to remove this warning, use the Theano flag'cxx=' (set to an empty string) to disable all ccode generation.\n",
      "  \"The file scan_perform.c is not available. This do\"\n"
     ]
    }
   ],
   "source": [
    "J, updates = theano.scan(lambda i, interp_imag, delta_alpha : tt.grad(interp_imag[i], delta_alpha), \\\n",
    "                         sequences=tt.arange(interp_imag.shape[0]), non_sequences=[interp_imag, delta_alpha])\n",
    "\n",
    "f_imag = theano.function([a, delta_alpha, delta_delta, sigma_alpha, sigma_delta], J, updates=updates)"
   ]
  },
  {
   "cell_type": "code",
   "execution_count": 24,
   "metadata": {},
   "outputs": [
    {
     "data": {
      "text/plain": [
       "[<matplotlib.lines.Line2D at 0x7f7a07b2b518>]"
      ]
     },
     "execution_count": 24,
     "metadata": {},
     "output_type": "execute_result"
    },
    {
     "data": {
      "image/png": "[encoded data removed]",
      "text/plain": [
       "<Figure size 432x288 with 2 Axes>"
      ]
     },
     "metadata": {
      "needs_background": "light"
     },
     "output_type": "display_data"
    }
   ],
   "source": [
    "dV_alpha_real = f_real(1, 1.0*arcsec, 1.0*arcsec, 1.0*arcsec, 1.0*arcsec)\n",
    "dV_alpha_imag = f_imag(1, 1.0*arcsec, 1.0*arcsec, 1.0*arcsec, 1.0*arcsec)\n",
    "\n",
    "dV_alpha_an = dV_ddelta_alpha(u_data*1e3, v_data*1e3)\n",
    "\n",
    "fig, ax = plt.subplots(nrows=2, sharex=True)\n",
    "\n",
    "ax[0].plot(np.real(dV_alpha_an), \".\", ms=4)\n",
    "ax[0].plot(dV_alpha_real, \".\", ms=3)\n",
    "\n",
    "ax[1].plot(np.imag(dV_alpha_an), \".\", ms=4)\n",
    "ax[1].plot(dV_alpha_imag, \".\", ms=3)"
   ]
  },
  {
   "cell_type": "markdown",
   "metadata": {},
   "source": [
    "now let's check gradient w.r.t. $\\delta_\\delta$"
   ]
  },
  {
   "cell_type": "code",
   "execution_count": 22,
   "metadata": {},
   "outputs": [
    {
     "name": "stderr",
     "output_type": "stream",
     "text": [
      "/home/ian/.build/anaconda/lib/python3.7/site-packages/theano/scan_module/scan_perform_ext.py:76: UserWarning: The file scan_perform.c is not available. This donot happen normally. You are probably in a strangesetup. This mean Theano can not use the cython code for scan. If youwant to remove this warning, use the Theano flag'cxx=' (set to an empty string) to disable all ccode generation.\n",
      "  \"The file scan_perform.c is not available. This do\"\n"
     ]
    }
   ],
   "source": [
    "# gradients of arrays need to be written like this in Theano\n",
    "J, updates = theano.scan(lambda i, interp_real, delta_delta : tt.grad(interp_real[i], delta_delta), \\\n",
    "                         sequences=tt.arange(interp_real.shape[0]), non_sequences=[interp_real, delta_delta])\n",
    "\n",
    "f_real = theano.function([a, delta_alpha, delta_delta, sigma_alpha, sigma_delta], J, updates=updates)"
   ]
  },
  {
   "cell_type": "code",
   "execution_count": 23,
   "metadata": {},
   "outputs": [
    {
     "name": "stderr",
     "output_type": "stream",
     "text": [
      "/home/ian/.build/anaconda/lib/python3.7/site-packages/theano/scan_module/scan_perform_ext.py:76: UserWarning: The file scan_perform.c is not available. This donot happen normally. You are probably in a strangesetup. This mean Theano can not use the cython code for scan. If youwant to remove this warning, use the Theano flag'cxx=' (set to an empty string) to disable all ccode generation.\n",
      "  \"The file scan_perform.c is not available. This do\"\n"
     ]
    }
   ],
   "source": [
    "J, updates = theano.scan(lambda i, interp_imag, delta_delta : tt.grad(interp_imag[i], delta_delta), \\\n",
    "                         sequences=tt.arange(interp_imag.shape[0]), non_sequences=[interp_imag, delta_delta])\n",
    "\n",
    "f_imag = theano.function([a, delta_alpha, delta_delta, sigma_alpha, sigma_delta], J, updates=updates)"
   ]
  },
  {
   "cell_type": "code",
   "execution_count": 25,
   "metadata": {},
   "outputs": [
    {
     "data": {
      "text/plain": [
       "[<matplotlib.lines.Line2D at 0x7f7a07784e80>]"
      ]
     },
     "execution_count": 25,
     "metadata": {},
     "output_type": "execute_result"
    },
    {
     "data": {
      "image/png": "[encoded data removed]",
      "text/plain": [
       "<Figure size 432x288 with 2 Axes>"
      ]
     },
     "metadata": {
      "needs_background": "light"
     },
     "output_type": "display_data"
    }
   ],
   "source": [
    "dV_real = f_real(1, 1.0*arcsec, 1.0*arcsec, 1.0*arcsec, 1.0*arcsec)\n",
    "dV_imag = f_imag(1, 1.0*arcsec, 1.0*arcsec, 1.0*arcsec, 1.0*arcsec)\n",
    "\n",
    "fig, ax = plt.subplots(nrows=2, sharex=True)\n",
    "\n",
    "ax[0].plot(dV_real, \".\", ms=3)\n",
    "ax[1].plot(dV_imag, \".\", ms=3)"
   ]
  },
  {
   "cell_type": "markdown",
   "metadata": {},
   "source": [
    "gradient w.r.t. $\\sigma_\\alpha$"
   ]
  },
  {
   "cell_type": "code",
   "execution_count": 26,
   "metadata": {},
   "outputs": [
    {
     "name": "stderr",
     "output_type": "stream",
     "text": [
      "/home/ian/.build/anaconda/lib/python3.7/site-packages/theano/scan_module/scan_perform_ext.py:76: UserWarning: The file scan_perform.c is not available. This donot happen normally. You are probably in a strangesetup. This mean Theano can not use the cython code for scan. If youwant to remove this warning, use the Theano flag'cxx=' (set to an empty string) to disable all ccode generation.\n",
      "  \"The file scan_perform.c is not available. This do\"\n"
     ]
    }
   ],
   "source": [
    "# gradients of arrays need to be written like this in Theano\n",
    "J, updates = theano.scan(lambda i, interp_real, sigma_alpha : tt.grad(interp_real[i], sigma_alpha), \\\n",
    "                         sequences=tt.arange(interp_real.shape[0]), non_sequences=[interp_real, sigma_alpha])\n",
    "\n",
    "f_real = theano.function([a, delta_alpha, delta_delta, sigma_alpha, sigma_delta], J, updates=updates)"
   ]
  },
  {
   "cell_type": "code",
   "execution_count": 27,
   "metadata": {},
   "outputs": [
    {
     "name": "stderr",
     "output_type": "stream",
     "text": [
      "/home/ian/.build/anaconda/lib/python3.7/site-packages/theano/scan_module/scan_perform_ext.py:76: UserWarning: The file scan_perform.c is not available. This donot happen normally. You are probably in a strangesetup. This mean Theano can not use the cython code for scan. If youwant to remove this warning, use the Theano flag'cxx=' (set to an empty string) to disable all ccode generation.\n",
      "  \"The file scan_perform.c is not available. This do\"\n"
     ]
    }
   ],
   "source": [
    "J, updates = theano.scan(lambda i, interp_imag, sigma_alpha : tt.grad(interp_imag[i], sigma_alpha), \\\n",
    "                         sequences=tt.arange(interp_imag.shape[0]), non_sequences=[interp_imag, sigma_alpha])\n",
    "\n",
    "f_imag = theano.function([a, delta_alpha, delta_delta, sigma_alpha, sigma_delta], J, updates=updates)"
   ]
  },
  {
   "cell_type": "code",
   "execution_count": 28,
   "metadata": {},
   "outputs": [
    {
     "data": {
      "text/plain": [
       "[<matplotlib.lines.Line2D at 0x7f7a07a08f98>]"
      ]
     },
     "execution_count": 28,
     "metadata": {},
     "output_type": "execute_result"
    },
    {
     "data": {
      "image/png": "[encoded data removed]",
      "text/plain": [
       "<Figure size 432x288 with 2 Axes>"
      ]
     },
     "metadata": {
      "needs_background": "light"
     },
     "output_type": "display_data"
    }
   ],
   "source": [
    "dV_real = f_real(1, 1.0*arcsec, 1.0*arcsec, 1.0*arcsec, 1.0*arcsec)\n",
    "dV_imag = f_imag(1, 1.0*arcsec, 1.0*arcsec, 1.0*arcsec, 1.0*arcsec)\n",
    "\n",
    "fig, ax = plt.subplots(nrows=2, sharex=True)\n",
    "\n",
    "ax[0].plot(dV_real, \".\", ms=3)\n",
    "ax[1].plot(dV_imag, \".\", ms=3)"
   ]
  },
  {
   "cell_type": "markdown",
   "metadata": {},
   "source": [
    "gradient w.r.t. $\\sigma_\\delta$"
   ]
  },
  {
   "cell_type": "code",
   "execution_count": 29,
   "metadata": {},
   "outputs": [
    {
     "name": "stderr",
     "output_type": "stream",
     "text": [
      "/home/ian/.build/anaconda/lib/python3.7/site-packages/theano/scan_module/scan_perform_ext.py:76: UserWarning: The file scan_perform.c is not available. This donot happen normally. You are probably in a strangesetup. This mean Theano can not use the cython code for scan. If youwant to remove this warning, use the Theano flag'cxx=' (set to an empty string) to disable all ccode generation.\n",
      "  \"The file scan_perform.c is not available. This do\"\n"
     ]
    }
   ],
   "source": [
    "# gradients of arrays need to be written like this in Theano\n",
    "J, updates = theano.scan(lambda i, interp_real, sigma_delta : tt.grad(interp_real[i], sigma_delta), \\\n",
    "                         sequences=tt.arange(interp_real.shape[0]), non_sequences=[interp_real, sigma_delta])\n",
    "\n",
    "f_real = theano.function([a, delta_alpha, delta_delta, sigma_alpha, sigma_delta], J, updates=updates)"
   ]
  },
  {
   "cell_type": "code",
   "execution_count": 30,
   "metadata": {},
   "outputs": [
    {
     "name": "stderr",
     "output_type": "stream",
     "text": [
      "/home/ian/.build/anaconda/lib/python3.7/site-packages/theano/scan_module/scan_perform_ext.py:76: UserWarning: The file scan_perform.c is not available. This donot happen normally. You are probably in a strangesetup. This mean Theano can not use the cython code for scan. If youwant to remove this warning, use the Theano flag'cxx=' (set to an empty string) to disable all ccode generation.\n",
      "  \"The file scan_perform.c is not available. This do\"\n"
     ]
    }
   ],
   "source": [
    "J, updates = theano.scan(lambda i, interp_imag, sigma_delta : tt.grad(interp_imag[i], sigma_delta), \\\n",
    "                         sequences=tt.arange(interp_imag.shape[0]), non_sequences=[interp_imag, sigma_delta])\n",
    "\n",
    "f_imag = theano.function([a, delta_alpha, delta_delta, sigma_alpha, sigma_delta], J, updates=updates)"
   ]
  },
  {
   "cell_type": "code",
   "execution_count": 31,
   "metadata": {},
   "outputs": [
    {
     "data": {
      "text/plain": [
       "[<matplotlib.lines.Line2D at 0x7f7a0d8c1748>]"
      ]
     },
     "execution_count": 31,
     "metadata": {},
     "output_type": "execute_result"
    },
    {
     "data": {
      "image/png": "[encoded data removed]",
      "text/plain": [
       "<Figure size 432x288 with 2 Axes>"
      ]
     },
     "metadata": {
      "needs_background": "light"
     },
     "output_type": "display_data"
    }
   ],
   "source": [
    "dV_real = f_real(1, 1.0*arcsec, 1.0*arcsec, 1.0*arcsec, 1.0*arcsec)\n",
    "dV_imag = f_imag(1, 1.0*arcsec, 1.0*arcsec, 1.0*arcsec, 1.0*arcsec)\n",
    "\n",
    "fig, ax = plt.subplots(nrows=2, sharex=True)\n",
    "\n",
    "ax[0].plot(dV_real, \".\", ms=3)\n",
    "ax[1].plot(dV_imag, \".\", ms=3)"
   ]
  },
  {
   "cell_type": "markdown",
   "metadata": {},
   "source": [
    "gradient w.r.t. $a$"
   ]
  },
  {
   "cell_type": "code",
   "execution_count": 32,
   "metadata": {},
   "outputs": [
    {
     "name": "stderr",
     "output_type": "stream",
     "text": [
      "/home/ian/.build/anaconda/lib/python3.7/site-packages/theano/scan_module/scan_perform_ext.py:76: UserWarning: The file scan_perform.c is not available. This donot happen normally. You are probably in a strangesetup. This mean Theano can not use the cython code for scan. If youwant to remove this warning, use the Theano flag'cxx=' (set to an empty string) to disable all ccode generation.\n",
      "  \"The file scan_perform.c is not available. This do\"\n"
     ]
    }
   ],
   "source": [
    "# gradients of arrays need to be written like this in Theano\n",
    "J, updates = theano.scan(lambda i, interp_real, a : tt.grad(interp_real[i], a), \\\n",
    "                         sequences=tt.arange(interp_real.shape[0]), non_sequences=[interp_real, a])\n",
    "\n",
    "f_real = theano.function([a, delta_alpha, delta_delta, sigma_alpha, sigma_delta], J, updates=updates)"
   ]
  },
  {
   "cell_type": "code",
   "execution_count": 33,
   "metadata": {},
   "outputs": [
    {
     "name": "stderr",
     "output_type": "stream",
     "text": [
      "/home/ian/.build/anaconda/lib/python3.7/site-packages/theano/scan_module/scan_perform_ext.py:76: UserWarning: The file scan_perform.c is not available. This donot happen normally. You are probably in a strangesetup. This mean Theano can not use the cython code for scan. If youwant to remove this warning, use the Theano flag'cxx=' (set to an empty string) to disable all ccode generation.\n",
      "  \"The file scan_perform.c is not available. This do\"\n"
     ]
    }
   ],
   "source": [
    "J, updates = theano.scan(lambda i, interp_imag, a : tt.grad(interp_imag[i], a), \\\n",
    "                         sequences=tt.arange(interp_imag.shape[0]), non_sequences=[interp_imag, a])\n",
    "\n",
    "f_imag = theano.function([a, delta_alpha, delta_delta, sigma_alpha, sigma_delta], J, updates=updates)"
   ]
  },
  {
   "cell_type": "code",
   "execution_count": 34,
   "metadata": {},
   "outputs": [
    {
     "data": {
      "text/plain": [
       "[<matplotlib.lines.Line2D at 0x7f7a06bdb470>]"
      ]
     },
     "execution_count": 34,
     "metadata": {},
     "output_type": "execute_result"
    },
    {
     "data": {
      "image/png": "[encoded data removed]",
      "text/plain": [
       "<Figure size 432x288 with 2 Axes>"
      ]
     },
     "metadata": {
      "needs_background": "light"
     },
     "output_type": "display_data"
    }
   ],
   "source": [
    "dV_real = f_real(1, 1.0*arcsec, 1.0*arcsec, 1.0*arcsec, 1.0*arcsec)\n",
    "dV_imag = f_imag(1, 1.0*arcsec, 1.0*arcsec, 1.0*arcsec, 1.0*arcsec)\n",
    "\n",
    "fig, ax = plt.subplots(nrows=2, sharex=True)\n",
    "\n",
    "ax[0].plot(dV_real, \".\", ms=3)\n",
    "ax[1].plot(dV_imag, \".\", ms=3)"
   ]
  }
 ],
 "metadata": {
  "kernelspec": {
   "display_name": "Python 3",
   "language": "python",
   "name": "python3"
  },
  "language_info": {
   "codemirror_mode": {
    "name": "ipython",
    "version": 3
   },
   "file_extension": ".py",
   "mimetype": "text/x-python",
   "name": "python",
   "nbconvert_exporter": "python",
   "pygments_lexer": "ipython3",
   "version": "3.7.3"
  }
 },
 "nbformat": 4,
 "nbformat_minor": 2
}
