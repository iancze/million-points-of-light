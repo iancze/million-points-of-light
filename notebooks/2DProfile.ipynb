{
 "cells": [
  {
   "cell_type": "code",
   "execution_count": 1,
   "metadata": {},
   "outputs": [],
   "source": [
    "%matplotlib inline\n",
    "\n",
    "import numpy as np \n",
    "import matplotlib.pyplot as plt\n",
    "\n",
    "import theano\n",
    "import theano.tensor as tt\n",
    "from theano.tensor import fft\n",
    "import theano.sparse\n",
    "\n",
    "# add the gridding path \n",
    "import sys\n",
    "sys.path.append(\"/home/ian/Research/Disks/MillionPoints/million-points-of-light\")\n",
    "# sys.path.append(\"/Users/ianczekala/Documents/ALMA/million-points-of-light\")\n",
    "\n",
    "import gridding\n",
    "\n",
    "# convert from arcseconds to radians\n",
    "arcsec = np.pi / (180.0 * 3600) # [radians]  = 1/206265 radian/arcsec"
   ]
  },
  {
   "cell_type": "code",
   "execution_count": 2,
   "metadata": {},
   "outputs": [],
   "source": [
    "def sky_plane(alpha, dec, a=1, delta_alpha=1.0*arcsec, delta_delta=1.0*arcsec, sigma_alpha=1.0*arcsec,\n",
    "              sigma_delta=1.0*arcsec, Omega=0.0):\n",
    "    '''\n",
    "    alpha: ra (in radians)\n",
    "    delta: dec (in radians)\n",
    "    a : amplitude\n",
    "    delta_alpha : offset (in radians)\n",
    "    delta_dec : offset (in radians)\n",
    "    sigma_alpha : width (in radians)\n",
    "    sigma_dec : width (in radians)\n",
    "    Omega : position angle of ascending node (in degrees east of north)\n",
    "    '''\n",
    "\n",
    "    return a * np.exp(-( (alpha - delta_alpha)**2/(2 * sigma_alpha**2) + \\\n",
    "                        (dec - delta_delta)**2/(2 * sigma_delta**2)))\n",
    "\n",
    "\n",
    "def fourier_plane(u, v, a=1, delta_alpha=1.0*arcsec, delta_delta=1.0*arcsec, sigma_alpha=1.0*arcsec,\n",
    "              sigma_delta=1.0*arcsec, Omega=0.0):\n",
    "    '''\n",
    "    Calculate the Fourier transform of the Gaussian. Assumes u, v in kλ.\n",
    "    '''\n",
    "\n",
    "    # convert back to lambda\n",
    "    u = u * 1e3\n",
    "    v = v * 1e3\n",
    "\n",
    "    return 2 * np.pi * a * sigma_alpha * sigma_delta * np.exp(- 2 * np.pi**2 * \\\n",
    "                (sigma_alpha**2 * u**2 + sigma_delta**2 * v**2) - 2 * np.pi * 1.0j * \\\n",
    "                                                    (delta_alpha * u + delta_delta * v))\n",
    "\n",
    "\n",
    "# the gradients\n",
    "def dV_ddelta_alpha(u, v, a=1, delta_alpha=1.0*arcsec, delta_delta=1.0*arcsec, sigma_alpha=1.0*arcsec,\n",
    "              sigma_delta=1.0*arcsec, Omega=0.0):\n",
    "    \n",
    "    \n",
    "    return -2 * np.pi * 1j * u * fourier_plane(u*1e-3, v*1e-3, a, delta_alpha, delta_delta, sigma_alpha,\n",
    "              sigma_delta, Omega)\n",
    "\n",
    "\n",
    "def dV_ddelta_delta(u, v, a=1, delta_alpha=1.0*arcsec, delta_delta=1.0*arcsec, sigma_alpha=1.0*arcsec,\n",
    "              sigma_delta=1.0*arcsec, Omega=0.0):\n",
    "    \n",
    "    \n",
    "    return -2 * np.pi * 1j * v * fourier_plane(u*1e-3, v*1e-3, a, delta_alpha, delta_delta, sigma_alpha,\n",
    "              sigma_delta, Omega)\n"
   ]
  },
  {
   "cell_type": "code",
   "execution_count": 3,
   "metadata": {},
   "outputs": [],
   "source": [
    "def fftspace(width, N):\n",
    "    '''Oftentimes it is necessary to get a symmetric coordinate array that spans ``N``\n",
    "     elements from `-width` to `+width`, but makes sure that the middle point lands\n",
    "     on ``0``. The indices go from ``0`` to ``N -1.``\n",
    "     `linspace` returns  the end points inclusive, wheras we want to leave out the\n",
    "     right endpoint, because we are sampling the function in a cyclic manner.'''\n",
    "\n",
    "    assert N % 2 == 0, \"N must be even.\"\n",
    "\n",
    "    dx = width * 2.0 / N\n",
    "    xx = np.empty(N, np.float)\n",
    "    for i in range(N):\n",
    "        xx[i] = -width + i * dx\n",
    "    \n",
    "    return xx"
   ]
  },
  {
   "cell_type": "code",
   "execution_count": 4,
   "metadata": {},
   "outputs": [
    {
     "data": {
      "image/png": "[encoded data removed]",
      "text/plain": [
       "<Figure size 432x288 with 1 Axes>"
      ]
     },
     "metadata": {
      "needs_background": "light"
     },
     "output_type": "display_data"
    }
   ],
   "source": [
    "# Let's plot this up and see what it looks like \n",
    "\n",
    "N_alpha = 512\n",
    "N_dec = 512\n",
    "img_radius = 15.0 * arcsec\n",
    "\n",
    "\n",
    "# full span of the image\n",
    "ra = fftspace(img_radius, N_alpha) # [arcsec]\n",
    "dec = fftspace(img_radius, N_dec) # [arcsec]\n",
    "\n",
    "# fill out an image \n",
    "img = np.empty((N_dec, N_alpha), np.float)\n",
    "\n",
    "for i,delta in enumerate(dec):\n",
    "    for j,alpha in enumerate(ra):\n",
    "        img[i,j] = sky_plane(alpha, delta)\n",
    "\n",
    "plt.imshow(img, origin=\"upper\", interpolation=\"none\", aspect=\"equal\")\n",
    "plt.xlabel(r\"$\\Delta \\alpha \\cos \\delta$\");\n",
    "plt.ylabel(r\"$\\Delta \\delta$\");"
   ]
  },
  {
   "cell_type": "code",
   "execution_count": 6,
   "metadata": {},
   "outputs": [
    {
     "name": "stdout",
     "output_type": "stream",
     "text": [
      "1760.126346641889\n"
     ]
    }
   ],
   "source": [
    "# calculate the maximum u and v points that our image grid can sample \n",
    "dRA = (2 * img_radius) / N_alpha # radians\n",
    "max_baseline = 1 / (2 * dRA) * 1e-3 # kilolambda, nyquist rate\n",
    "print(max_baseline) # kilolambda"
   ]
  },
  {
   "cell_type": "code",
   "execution_count": 17,
   "metadata": {},
   "outputs": [],
   "source": [
    "# create some fake baselines \n",
    "N_vis = np.int(1e5)\n",
    "\n",
    "u_data = np.random.normal(loc=0, scale=0.1 * max_baseline, size=N_vis)\n",
    "v_data = np.random.normal(loc=0, scale=0.1 * max_baseline, size=N_vis)\n",
    "\n",
    "data_points = np.array([u_data, v_data]).T\n",
    "\n",
    "# calculate the analytical values\n",
    "data_values = fourier_plane(u_data, v_data)"
   ]
  },
  {
   "cell_type": "code",
   "execution_count": 8,
   "metadata": {},
   "outputs": [
    {
     "data": {
      "text/plain": [
       "<matplotlib.collections.PathCollection at 0x7fae2ab385f8>"
      ]
     },
     "execution_count": 8,
     "metadata": {},
     "output_type": "execute_result"
    },
    {
     "data": {
      "image/png": "[encoded data removed]",
      "text/plain": [
       "<Figure size 432x288 with 1 Axes>"
      ]
     },
     "metadata": {
      "needs_background": "light"
     },
     "output_type": "display_data"
    }
   ],
   "source": [
    "plt.scatter(u_data, v_data)"
   ]
  },
  {
   "cell_type": "code",
   "execution_count": 18,
   "metadata": {},
   "outputs": [],
   "source": [
    "# fixed quantities that we can pre-calculate before the Theano part \n",
    "# create a fixed image plane grid of ras, decs that properly oversamples your beam\n",
    "# these should already be fftshifted\n",
    "XX, YY = np.meshgrid(np.fft.fftshift(ra), np.fft.fftshift(dec))\n",
    "\n",
    "corrfun = gridding.corrfun_mat(np.fft.fftshift(ra), np.fft.fftshift(dec))\n",
    "\n",
    "# the (N_vis, 2) vector containing the u, v, baselines\n",
    "# data_points = np.array([[50.0, 10.0], [50.0, 0.0], [50.0, -1.0],\n",
    "#     [-50.0, 10.0], [5.0, 1.0], [-5.0, 1.0], [5.0, 20.0], [-5.0, -20.0]]) # k lambda\n",
    "# u_data, v_data = data_points.T\n",
    "# calculate analytical values\n",
    "# data_values = fourier_plane(u_data, v_data)\n",
    "\n",
    "us = np.fft.rfftfreq(N_alpha, d=(2 * img_radius)/N_alpha) * 1e-3  # convert to [kλ]\n",
    "vs = np.fft.fftfreq(N_dec, d=(2 * img_radius)/N_dec) * 1e-3  # convert to [kλ]"
   ]
  },
  {
   "cell_type": "code",
   "execution_count": 19,
   "metadata": {},
   "outputs": [
    {
     "name": "stdout",
     "output_type": "stream",
     "text": [
      "CPU times: user 1min 5s, sys: 569 ms, total: 1min 5s\n",
      "Wall time: 1min 5s\n"
     ]
    }
   ],
   "source": [
    "%%time \n",
    "# calculate and visualize the C_real and C_imag matrices\n",
    "# these are scipy csc sparse matrices\n",
    "C_real, C_imag = gridding.calc_matrices(data_points, us, vs)"
   ]
  },
  {
   "cell_type": "code",
   "execution_count": 20,
   "metadata": {},
   "outputs": [],
   "source": [
    "# generate these things with numpy commands that will be made into Theano objects\n",
    "# 1) calculate the RA and DEC coordinates of the image \n",
    "\n",
    "# create input grid\n",
    "# NOTE that these must be `fftshifted` already.\n",
    "# add an extra dimension for the later packing into the rfft\n",
    "alpha = XX[np.newaxis,:]\n",
    "dalpha = np.abs(alpha[0,0,1] - alpha[0,0,0])\n",
    "delta = YY[np.newaxis,:]\n",
    "ddelta = np.abs(delta[0,1,0] - delta[0,0,0])\n",
    "\n",
    "# 4) calculate the CSC matrix that interpolates the RFFT grid\n",
    "# Store them as theano shared variables, make sure it's sparse\n",
    "# TODO: make sure the shape is correct\n",
    "# C_real_sparse = theano.sparse.CSC(C_real.data, C_real.indices, C_real.indptr, C_real.shape)\n",
    "# C_imag_sparse = theano.sparse.CSC(C_imag.data, C_imag.indices, C_imag.indptr, C_imag.shape)\n",
    "\n",
    "# a : amplitude\n",
    "# delta_alpha : offset (in radians)\n",
    "# delta_delta : offset (in radians)\n",
    "# sigma_alpha : width (in radians)\n",
    "# sigma_delta : width (in radians)\n",
    "\n",
    "# calculate the sky-plane model\n",
    "a = tt.scalar(\"a\")\n",
    "delta_alpha = tt.scalar(\"delta_alpha\")\n",
    "delta_delta = tt.scalar(\"delta_delta\")\n",
    "sigma_alpha = tt.scalar(\"sigma_alpha\")\n",
    "sigma_delta = tt.scalar(\"sigma_delta\")\n",
    "\n",
    "# Calculate the sky-plane model\n",
    "# since the input coordinates were already shifted, then this is too\n",
    "I = a * tt.exp(-(alpha - delta_alpha)**2/(2 * sigma_alpha**2) - (delta - delta_delta)**2/(2 * sigma_delta**2))\n",
    "# I shape should be (1, N_dec, N_alpha)\n",
    "\n",
    "# taper the image with the gridding correction function\n",
    "# this should broadcast OK, since the trailing image dimensions match\n",
    "I_tapered = I * corrfun\n",
    "\n",
    "# I_func = theano.function([a, delta_alpha, delta_delta, sigma_alpha, sigma_delta], I)\n",
    "\n",
    "rfft = dalpha * ddelta * fft.rfft(I_tapered, norm=None)\n",
    "# output from the RFFT is (1, N_delta, N_alpha//2 + 1, 2)\n",
    "\n",
    "# flatten the RFFT output appopriately, taking the real and imag parts separately\n",
    "vis_real = rfft[0, :, :, 0].flatten() # real values \n",
    "# rshape = tt.shape(vis_real)\n",
    "# fshape = theano.function([a, delta_alpha, delta_delta, sigma_alpha, sigma_delta], rshape)\n",
    "vis_imag = rfft[0, :, :, 1].flatten() # imaginary values\n",
    "\n",
    "# interpolate the RFFT to the baselines\n",
    "# write a sparse matrix multiply\n",
    "interp_real = theano.sparse.dot(C_real, vis_real)\n",
    "interp_imag = theano.sparse.dot(C_imag, vis_imag)\n",
    "\n",
    "fvis_real = theano.function([a, delta_alpha, delta_delta, sigma_alpha, sigma_delta], interp_real)\n",
    "fvis_imag = theano.function([a, delta_alpha, delta_delta, sigma_alpha, sigma_delta], interp_imag)"
   ]
  },
  {
   "cell_type": "code",
   "execution_count": 21,
   "metadata": {},
   "outputs": [
    {
     "name": "stdout",
     "output_type": "stream",
     "text": [
      "CPU times: user 78.6 ms, sys: 6.53 ms, total: 85.2 ms\n",
      "Wall time: 84.3 ms\n"
     ]
    }
   ],
   "source": [
    "%%time \n",
    "out_real = fvis_real(1, 1.0 * arcsec, 1.0 * arcsec, 1.0*arcsec, 1.0*arcsec)\n",
    "out_imag = fvis_imag(1, 1.0 * arcsec, 1.0 * arcsec, 1.0*arcsec, 1.0*arcsec)"
   ]
  },
  {
   "cell_type": "markdown",
   "metadata": {},
   "source": [
    "Insert timing code here"
   ]
  },
  {
   "cell_type": "code",
   "execution_count": null,
   "metadata": {},
   "outputs": [],
   "source": []
  }
 ],
 "metadata": {
  "kernelspec": {
   "display_name": "Python 3",
   "language": "python",
   "name": "python3"
  },
  "language_info": {
   "codemirror_mode": {
    "name": "ipython",
    "version": 3
   },
   "file_extension": ".py",
   "mimetype": "text/x-python",
   "name": "python",
   "nbconvert_exporter": "python",
   "pygments_lexer": "ipython3",
   "version": "3.7.3"
  }
 },
 "nbformat": 4,
 "nbformat_minor": 2
}
