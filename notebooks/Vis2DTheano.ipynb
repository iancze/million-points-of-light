{
 "cells": [
  {
   "cell_type": "code",
   "execution_count": 1,
   "metadata": {},
   "outputs": [],
   "source": [
    "%matplotlib inline\n",
    "\n",
    "import numpy as np \n",
    "import matplotlib.pyplot as plt\n",
    "\n",
    "import theano\n",
    "import theano.tensor as tt\n",
    "from theano.tensor import fft\n",
    "import theano.sparse\n",
    "\n",
    "# add the gridding path \n",
    "import sys\n",
    "sys.path.append(\"/home/ian/Research/Disks/MillionPoints/million-points-of-light\")\n",
    "sys.path.append(\"/Users/ianczekala/Documents/ALMA/million-points-of-light\")\n",
    "\n",
    "import gridding\n",
    "\n",
    "# convert from arcseconds to radians\n",
    "arcsec = np.pi / (180.0 * 3600) # [radians]  = 1/206265 radian/arcsec"
   ]
  },
  {
   "cell_type": "code",
   "execution_count": 2,
   "metadata": {},
   "outputs": [],
   "source": [
    "def sky_plane(alpha, dec, a=1, delta_alpha=1.0*arcsec, delta_delta=1.0*arcsec, sigma_alpha=1.0*arcsec,\n",
    "              sigma_delta=1.0*arcsec, Omega=0.0):\n",
    "    '''\n",
    "    alpha: ra (in radians)\n",
    "    delta: dec (in radians)\n",
    "    a : amplitude\n",
    "    delta_alpha : offset (in radians)\n",
    "    delta_dec : offset (in radians)\n",
    "    sigma_alpha : width (in radians)\n",
    "    sigma_dec : width (in radians)\n",
    "    Omega : position angle of ascending node (in degrees east of north)\n",
    "    '''\n",
    "\n",
    "    return a * np.exp(-( (alpha - delta_alpha)**2/(2 * sigma_alpha**2) + \\\n",
    "                        (dec - delta_delta)**2/(2 * sigma_delta**2)))\n",
    "\n",
    "\n",
    "def fourier_plane(u, v, a=1, delta_alpha=1.0*arcsec, delta_delta=1.0*arcsec, sigma_alpha=1.0*arcsec,\n",
    "              sigma_delta=1.0*arcsec, Omega=0.0):\n",
    "    '''\n",
    "    Calculate the Fourier transform of the Gaussian. Assumes u, v in kλ.\n",
    "    '''\n",
    "\n",
    "    # convert back to lambda\n",
    "    u = u * 1e3\n",
    "    v = v * 1e3\n",
    "\n",
    "    return 2 * np.pi * a * sigma_alpha * sigma_delta * np.exp(- 2 * np.pi**2 * \\\n",
    "                (sigma_alpha**2 * u**2 + sigma_delta**2 * v**2) - 2 * np.pi * 1.0j * \\\n",
    "                                                    (delta_alpha * u + delta_delta * v))\n",
    "\n",
    "\n",
    "# the gradients\n",
    "def dV_ddelta_alpha(u, v, a=1, delta_alpha=1.0*arcsec, delta_delta=1.0*arcsec, sigma_alpha=1.0*arcsec,\n",
    "              sigma_delta=1.0*arcsec, Omega=0.0):\n",
    "    \n",
    "    \n",
    "    return -2 * np.pi * 1j * u * fourier_plane(u*1e-3, v*1e-3, a, delta_alpha, delta_delta, sigma_alpha,\n",
    "              sigma_delta, Omega)\n",
    "\n",
    "\n",
    "def dV_ddelta_delta(u, v, a=1, delta_alpha=1.0*arcsec, delta_delta=1.0*arcsec, sigma_alpha=1.0*arcsec,\n",
    "              sigma_delta=1.0*arcsec, Omega=0.0):\n",
    "    \n",
    "    \n",
    "    return -2 * np.pi * 1j * v * fourier_plane(u*1e-3, v*1e-3, a, delta_alpha, delta_delta, sigma_alpha,\n",
    "              sigma_delta, Omega)\n"
   ]
  },
  {
   "cell_type": "code",
   "execution_count": 3,
   "metadata": {},
   "outputs": [],
   "source": [
    "def fftspace(width, N):\n",
    "    '''Oftentimes it is necessary to get a symmetric coordinate array that spans ``N``\n",
    "     elements from `-width` to `+width`, but makes sure that the middle point lands\n",
    "     on ``0``. The indices go from ``0`` to ``N -1.``\n",
    "     `linspace` returns  the end points inclusive, wheras we want to leave out the\n",
    "     right endpoint, because we are sampling the function in a cyclic manner.'''\n",
    "\n",
    "    assert N % 2 == 0, \"N must be even.\"\n",
    "\n",
    "    dx = width * 2.0 / N\n",
    "    xx = np.empty(N, np.float)\n",
    "    for i in range(N):\n",
    "        xx[i] = -width + i * dx\n",
    "    \n",
    "    return xx"
   ]
  },
  {
   "cell_type": "code",
   "execution_count": 4,
   "metadata": {},
   "outputs": [
    {
     "data": {
      "image/png": "[encoded data removed]",
      "text/plain": [
       "<Figure size 432x288 with 1 Axes>"
      ]
     },
     "metadata": {
      "needs_background": "light"
     },
     "output_type": "display_data"
    }
   ],
   "source": [
    "# Let's plot this up and see what it looks like \n",
    "\n",
    "N_alpha = 128\n",
    "N_dec = 128\n",
    "img_radius = 15.0 * arcsec\n",
    "\n",
    "\n",
    "# full span of the image\n",
    "ra = fftspace(img_radius, N_alpha) # [arcsec]\n",
    "dec = fftspace(img_radius, N_dec) # [arcsec]\n",
    "\n",
    "# fill out an image \n",
    "img = np.empty((N_dec, N_alpha), np.float)\n",
    "\n",
    "for i,delta in enumerate(dec):\n",
    "    for j,alpha in enumerate(ra):\n",
    "        img[i,j] = sky_plane(alpha, delta)\n",
    "\n",
    "plt.imshow(img, origin=\"upper\", interpolation=\"none\", aspect=\"equal\")\n",
    "plt.xlabel(r\"$\\Delta \\alpha \\cos \\delta$\");\n",
    "plt.ylabel(r\"$\\Delta \\delta$\");"
   ]
  },
  {
   "cell_type": "code",
   "execution_count": 5,
   "metadata": {},
   "outputs": [
    {
     "name": "stdout",
     "output_type": "stream",
     "text": [
      "440.03158666047227\n"
     ]
    }
   ],
   "source": [
    "# calculate the maximum u and v points that our image grid can sample \n",
    "dRA = (2 * img_radius) / N_alpha # radians\n",
    "max_baseline = 1 / (2 * dRA) * 1e-3 # kilolambda, nyquist rate\n",
    "print(max_baseline) # kilolambda"
   ]
  },
  {
   "cell_type": "code",
   "execution_count": 6,
   "metadata": {},
   "outputs": [],
   "source": [
    "# create some fake baselines \n",
    "N_vis = 100\n",
    "\n",
    "u_data = np.random.normal(loc=0, scale=0.1 * max_baseline, size=N_vis)\n",
    "v_data = np.random.normal(loc=0, scale=0.1 * max_baseline, size=N_vis)\n",
    "\n",
    "data_points = np.array([u_data, v_data]).T\n",
    "\n",
    "# calculate the analytical values\n",
    "data_values = fourier_plane(u_data, v_data)"
   ]
  },
  {
   "cell_type": "code",
   "execution_count": 7,
   "metadata": {},
   "outputs": [
    {
     "data": {
      "text/plain": [
       "<matplotlib.collections.PathCollection at 0x1c1788b080>"
      ]
     },
     "execution_count": 7,
     "metadata": {},
     "output_type": "execute_result"
    },
    {
     "data": {
      "image/png": "[encoded data removed]",
      "text/plain": [
       "<Figure size 432x288 with 1 Axes>"
      ]
     },
     "metadata": {
      "needs_background": "light"
     },
     "output_type": "display_data"
    }
   ],
   "source": [
    "plt.scatter(u_data, v_data)"
   ]
  },
  {
   "cell_type": "code",
   "execution_count": 8,
   "metadata": {},
   "outputs": [],
   "source": [
    "# fixed quantities that we can pre-calculate before the Theano part \n",
    "# create a fixed image plane grid of ras, decs that properly oversamples your beam\n",
    "# these should already be fftshifted\n",
    "XX, YY = np.meshgrid(np.fft.fftshift(ra), np.fft.fftshift(dec))\n",
    "\n",
    "corrfun_mat = gridding.corrfun_mat(np.fft.fftshift(ra), np.fft.fftshift(dec))\n",
    "\n",
    "# the (N_vis, 2) vector containing the u, v, baselines\n",
    "# data_points = np.array([[50.0, 10.0], [50.0, 0.0], [50.0, -1.0],\n",
    "#     [-50.0, 10.0], [5.0, 1.0], [-5.0, 1.0], [5.0, 20.0], [-5.0, -20.0]]) # k lambda\n",
    "# u_data, v_data = data_points.T\n",
    "# calculate analytical values\n",
    "# data_values = fourier_plane(u_data, v_data)\n",
    "\n",
    "u_coords = np.fft.rfftfreq(N_alpha, d=(2 * img_radius)/N_alpha) * 1e-3  # convert to [kλ]\n",
    "v_coords = np.fft.fftfreq(N_dec, d=(2 * img_radius)/N_dec) * 1e-3  # convert to [kλ]\n",
    "\n",
    "# calculate and visualize the C_real and C_imag matrices\n",
    "# these are scipy csc sparse matrices\n",
    "C_real, C_imag = gridding.calc_matrices(data_points, u_coords, v_coords)"
   ]
  },
  {
   "cell_type": "code",
   "execution_count": 9,
   "metadata": {},
   "outputs": [],
   "source": [
    "# generate these things with numpy commands that will be made into Theano objects\n",
    "# 1) calculate the RA and DEC coordinates of the image \n",
    "\n",
    "# create input grid as a shared variable\n",
    "# NOTE that these must be `fftshifted` already.\n",
    "# add an extra dimension for the later packing into the rfft\n",
    "alpha = theano.shared(XX[np.newaxis,:])\n",
    "dalpha = abs(alpha[0,0,1] - alpha[0,0,0])\n",
    "delta = theano.shared(YY[np.newaxis,:])\n",
    "ddelta = abs(delta[0,1,0] - delta[0,0,0])\n",
    "\n",
    "\n",
    "# 2) calculate the image premultiply matrix \n",
    "# needs the pre-fft shifted arrays (because the image will already be)\n",
    "corrfun = theano.shared(corrfun_mat)\n",
    "\n",
    "# 3) calculate the RFFT output dimensions and coordinates \n",
    "us = theano.shared(u_coords)\n",
    "vs = theano.shared(v_coords) \n",
    "\n",
    "# 4) calculate the CSC matrix that interpolates the RFFT grid\n",
    "# Store them as theano shared variables, make sure it's sparse\n",
    "# TODO: make sure the shape is correct\n",
    "C_real_sparse = theano.sparse.CSC(C_real.data, C_real.indices, C_real.indptr, C_real.shape)\n",
    "C_imag_sparse = theano.sparse.CSC(C_imag.data, C_imag.indices, C_imag.indptr, C_imag.shape)\n",
    "\n",
    "# a : amplitude\n",
    "# delta_alpha : offset (in radians)\n",
    "# delta_delta : offset (in radians)\n",
    "# sigma_alpha : width (in radians)\n",
    "# sigma_delta : width (in radians)\n",
    "\n",
    "# calculate the sky-plane model\n",
    "a = tt.scalar(\"a\")\n",
    "delta_alpha = tt.scalar(\"delta_alpha\")\n",
    "delta_delta = tt.scalar(\"delta_delta\")\n",
    "sigma_alpha = tt.scalar(\"sigma_alpha\")\n",
    "sigma_delta = tt.scalar(\"sigma_delta\")\n",
    "\n",
    "# Calculate the sky-plane model\n",
    "# since the input coordinates were already shifted, then this is too\n",
    "I = a * tt.exp(-(alpha - delta_alpha)**2/(2 * sigma_alpha**2) - (delta - delta_delta)**2/(2 * sigma_delta**2))\n",
    "# I shape should be (1, N_dec, N_alpha)\n",
    "\n",
    "# taper the image with the gridding correction function\n",
    "# this should broadcast OK, since the trailing image dimensions match\n",
    "I_tapered = I * corrfun\n",
    "\n",
    "# I_func = theano.function([a, delta_alpha, delta_delta, sigma_alpha, sigma_delta], I)\n",
    "\n",
    "rfft = dalpha * ddelta * fft.rfft(I_tapered, norm=None)\n",
    "# output from the RFFT is (1, N_delta, N_alpha//2 + 1, 2)\n",
    "\n",
    "# flatten the RFFT output appopriately, taking the real and imag parts separately\n",
    "vis_real = rfft[0, :, :, 0].flatten() # real values \n",
    "vis_imag = rfft[0, :, :, 1].flatten() # imaginary values\n",
    "\n",
    "# interpolate the RFFT to the baselines\n",
    "# write a sparse matrix multiply\n",
    "interp_real = theano.sparse.dot(C_real_sparse, vis_real)\n",
    "interp_imag = theano.sparse.dot(C_imag_sparse, vis_imag)\n",
    "\n",
    "fvis_real = theano.function([a, delta_alpha, delta_delta, sigma_alpha, sigma_delta], interp_real)\n",
    "fvis_imag = theano.function([a, delta_alpha, delta_delta, sigma_alpha, sigma_delta], interp_imag)"
   ]
  },
  {
   "cell_type": "code",
   "execution_count": 10,
   "metadata": {},
   "outputs": [],
   "source": [
    "out_real = fvis_real(1, 1.0 * arcsec, 1.0 * arcsec, 1.0*arcsec, 1.0*arcsec)\n",
    "out_imag = fvis_imag(1, 1.0 * arcsec, 1.0 * arcsec, 1.0*arcsec, 1.0*arcsec)"
   ]
  },
  {
   "cell_type": "code",
   "execution_count": 11,
   "metadata": {},
   "outputs": [
    {
     "data": {
      "image/png": "[encoded data removed]",
      "text/plain": [
       "<Figure size 288x360 with 4 Axes>"
      ]
     },
     "metadata": {
      "needs_background": "light"
     },
     "output_type": "display_data"
    }
   ],
   "source": [
    "fig, ax = plt.subplots(nrows=4, figsize=(4,5))\n",
    "ax[0].plot(np.real(data_values), \".\", ms=4)\n",
    "ax[0].plot(out_real, \".\", ms=3)\n",
    "ax[0].set_ylabel(\"real\")\n",
    "ax[1].plot(out_real - np.real(data_values), \".\")\n",
    "ax[1].set_ylabel(\"real diff\")\n",
    "ax[2].plot(np.imag(data_values), \".\", ms=4)\n",
    "ax[2].plot(out_imag, \".\", ms=3)\n",
    "ax[2].set_ylabel(\"imag\")\n",
    "ax[3].plot(out_imag - np.imag(data_values), \".\")\n",
    "ax[3].set_ylabel(\"imag diff\");\n",
    "# fig.subplots_adjust(hspace=0.4, left=0.2)\n",
    "# fig.savefig(\"real_comp.png\", dpi=300)\n"
   ]
  },
  {
   "cell_type": "markdown",
   "metadata": {},
   "source": [
    "# Gradients \n",
    "\n",
    "calculate the gradients and compare them to the gradients calculated analytically\n",
    "\n",
    "First, let's check $\\delta_\\alpha$"
   ]
  },
  {
   "cell_type": "code",
   "execution_count": 12,
   "metadata": {},
   "outputs": [
    {
     "data": {
      "text/plain": [
       "Subtensor{int64}.0"
      ]
     },
     "execution_count": 12,
     "metadata": {},
     "output_type": "execute_result"
    }
   ],
   "source": [
    "interp_real[0]"
   ]
  },
  {
   "cell_type": "code",
   "execution_count": 13,
   "metadata": {},
   "outputs": [
    {
     "data": {
      "text/plain": [
       "InplaceDimShuffle{}.0"
      ]
     },
     "execution_count": 13,
     "metadata": {},
     "output_type": "execute_result"
    }
   ],
   "source": [
    "tt.grad(interp_real[0], delta_alpha)"
   ]
  },
  {
   "cell_type": "code",
   "execution_count": 14,
   "metadata": {},
   "outputs": [],
   "source": [
    "# gradients of arrays need to be written like this in Theano\n",
    "J, updates = theano.scan(lambda i, interp_real, delta_alpha : tt.grad(interp_real[i], delta_alpha), \\\n",
    "                         sequences=tt.arange(interp_real.shape[0]), non_sequences=[interp_real, delta_alpha])\n",
    "\n",
    "f_real = theano.function([a, delta_alpha, delta_delta, sigma_alpha, sigma_delta], J, updates=updates)"
   ]
  },
  {
   "cell_type": "code",
   "execution_count": 15,
   "metadata": {},
   "outputs": [],
   "source": [
    "J, updates = theano.scan(lambda i, interp_imag, delta_alpha : tt.grad(interp_imag[i], delta_alpha), \\\n",
    "                         sequences=tt.arange(interp_imag.shape[0]), non_sequences=[interp_imag, delta_alpha])\n",
    "\n",
    "f_imag = theano.function([a, delta_alpha, delta_delta, sigma_alpha, sigma_delta], J, updates=updates)"
   ]
  },
  {
   "cell_type": "code",
   "execution_count": 16,
   "metadata": {},
   "outputs": [
    {
     "data": {
      "text/plain": [
       "[<matplotlib.lines.Line2D at 0x1c1a8948d0>]"
      ]
     },
     "execution_count": 16,
     "metadata": {},
     "output_type": "execute_result"
    },
    {
     "data": {
      "image/png": "[encoded data removed]",
      "text/plain": [
       "<Figure size 432x288 with 2 Axes>"
      ]
     },
     "metadata": {
      "needs_background": "light"
     },
     "output_type": "display_data"
    }
   ],
   "source": [
    "dV_alpha_real = f_real(1, 1.0*arcsec, 1.0*arcsec, 1.0*arcsec, 1.0*arcsec)\n",
    "dV_alpha_imag = f_imag(1, 1.0*arcsec, 1.0*arcsec, 1.0*arcsec, 1.0*arcsec)\n",
    "\n",
    "dV_alpha_an = dV_ddelta_alpha(u_data*1e3, v_data*1e3)\n",
    "\n",
    "fig, ax = plt.subplots(nrows=2, sharex=True)\n",
    "\n",
    "ax[0].plot(np.real(dV_alpha_an), \".\", ms=4)\n",
    "ax[0].plot(dV_alpha_real, \".\", ms=3)\n",
    "\n",
    "ax[1].plot(np.imag(dV_alpha_an), \".\", ms=4)\n",
    "ax[1].plot(dV_alpha_imag, \".\", ms=3)"
   ]
  },
  {
   "cell_type": "markdown",
   "metadata": {},
   "source": [
    "now let's check gradient w.r.t. $\\delta_\\delta$"
   ]
  },
  {
   "cell_type": "code",
   "execution_count": 17,
   "metadata": {},
   "outputs": [],
   "source": [
    "# gradients of arrays need to be written like this in Theano\n",
    "J, updates = theano.scan(lambda i, interp_real, delta_delta : tt.grad(interp_real[i], delta_delta), \\\n",
    "                         sequences=tt.arange(interp_real.shape[0]), non_sequences=[interp_real, delta_delta])\n",
    "\n",
    "f_real = theano.function([a, delta_alpha, delta_delta, sigma_alpha, sigma_delta], J, updates=updates)"
   ]
  },
  {
   "cell_type": "code",
   "execution_count": 18,
   "metadata": {},
   "outputs": [],
   "source": [
    "J, updates = theano.scan(lambda i, interp_imag, delta_delta : tt.grad(interp_imag[i], delta_delta), \\\n",
    "                         sequences=tt.arange(interp_imag.shape[0]), non_sequences=[interp_imag, delta_delta])\n",
    "\n",
    "f_imag = theano.function([a, delta_alpha, delta_delta, sigma_alpha, sigma_delta], J, updates=updates)"
   ]
  },
  {
   "cell_type": "code",
   "execution_count": 19,
   "metadata": {},
   "outputs": [
    {
     "data": {
      "text/plain": [
       "[<matplotlib.lines.Line2D at 0x1c1acd6908>]"
      ]
     },
     "execution_count": 19,
     "metadata": {},
     "output_type": "execute_result"
    },
    {
     "data": {
      "image/png": "[encoded data removed]",
      "text/plain": [
       "<Figure size 432x288 with 2 Axes>"
      ]
     },
     "metadata": {
      "needs_background": "light"
     },
     "output_type": "display_data"
    }
   ],
   "source": [
    "dV_real = f_real(1, 1.0*arcsec, 1.0*arcsec, 1.0*arcsec, 1.0*arcsec)\n",
    "dV_imag = f_imag(1, 1.0*arcsec, 1.0*arcsec, 1.0*arcsec, 1.0*arcsec)\n",
    "\n",
    "fig, ax = plt.subplots(nrows=2, sharex=True)\n",
    "\n",
    "ax[0].plot(dV_real, \".\", ms=3)\n",
    "ax[1].plot(dV_imag, \".\", ms=3)"
   ]
  },
  {
   "cell_type": "markdown",
   "metadata": {},
   "source": [
    "gradient w.r.t. $\\sigma_\\alpha$"
   ]
  },
  {
   "cell_type": "code",
   "execution_count": 20,
   "metadata": {},
   "outputs": [],
   "source": [
    "# gradients of arrays need to be written like this in Theano\n",
    "J, updates = theano.scan(lambda i, interp_real, sigma_alpha : tt.grad(interp_real[i], sigma_alpha), \\\n",
    "                         sequences=tt.arange(interp_real.shape[0]), non_sequences=[interp_real, sigma_alpha])\n",
    "\n",
    "f_real = theano.function([a, delta_alpha, delta_delta, sigma_alpha, sigma_delta], J, updates=updates)"
   ]
  },
  {
   "cell_type": "code",
   "execution_count": 21,
   "metadata": {},
   "outputs": [],
   "source": [
    "J, updates = theano.scan(lambda i, interp_imag, sigma_alpha : tt.grad(interp_imag[i], sigma_alpha), \\\n",
    "                         sequences=tt.arange(interp_imag.shape[0]), non_sequences=[interp_imag, sigma_alpha])\n",
    "\n",
    "f_imag = theano.function([a, delta_alpha, delta_delta, sigma_alpha, sigma_delta], J, updates=updates)"
   ]
  },
  {
   "cell_type": "code",
   "execution_count": 22,
   "metadata": {},
   "outputs": [
    {
     "data": {
      "text/plain": [
       "[<matplotlib.lines.Line2D at 0x1c1b42eb38>]"
      ]
     },
     "execution_count": 22,
     "metadata": {},
     "output_type": "execute_result"
    },
    {
     "data": {
      "image/png": "[encoded data removed]",
      "text/plain": [
       "<Figure size 432x288 with 2 Axes>"
      ]
     },
     "metadata": {
      "needs_background": "light"
     },
     "output_type": "display_data"
    }
   ],
   "source": [
    "dV_real = f_real(1, 1.0*arcsec, 1.0*arcsec, 1.0*arcsec, 1.0*arcsec)\n",
    "dV_imag = f_imag(1, 1.0*arcsec, 1.0*arcsec, 1.0*arcsec, 1.0*arcsec)\n",
    "\n",
    "fig, ax = plt.subplots(nrows=2, sharex=True)\n",
    "\n",
    "ax[0].plot(dV_real, \".\", ms=3)\n",
    "ax[1].plot(dV_imag, \".\", ms=3)"
   ]
  },
  {
   "cell_type": "markdown",
   "metadata": {},
   "source": [
    "gradient w.r.t. $\\sigma_\\delta$"
   ]
  },
  {
   "cell_type": "code",
   "execution_count": 23,
   "metadata": {},
   "outputs": [],
   "source": [
    "# gradients of arrays need to be written like this in Theano\n",
    "J, updates = theano.scan(lambda i, interp_real, sigma_delta : tt.grad(interp_real[i], sigma_delta), \\\n",
    "                         sequences=tt.arange(interp_real.shape[0]), non_sequences=[interp_real, sigma_delta])\n",
    "\n",
    "f_real = theano.function([a, delta_alpha, delta_delta, sigma_alpha, sigma_delta], J, updates=updates)"
   ]
  },
  {
   "cell_type": "code",
   "execution_count": 24,
   "metadata": {},
   "outputs": [],
   "source": [
    "J, updates = theano.scan(lambda i, interp_imag, sigma_delta : tt.grad(interp_imag[i], sigma_delta), \\\n",
    "                         sequences=tt.arange(interp_imag.shape[0]), non_sequences=[interp_imag, sigma_delta])\n",
    "\n",
    "f_imag = theano.function([a, delta_alpha, delta_delta, sigma_alpha, sigma_delta], J, updates=updates)"
   ]
  },
  {
   "cell_type": "code",
   "execution_count": 25,
   "metadata": {},
   "outputs": [
    {
     "data": {
      "text/plain": [
       "[<matplotlib.lines.Line2D at 0x1c1a512a20>]"
      ]
     },
     "execution_count": 25,
     "metadata": {},
     "output_type": "execute_result"
    },
    {
     "data": {
      "image/png": "[encoded data removed]",
      "text/plain": [
       "<Figure size 432x288 with 2 Axes>"
      ]
     },
     "metadata": {
      "needs_background": "light"
     },
     "output_type": "display_data"
    }
   ],
   "source": [
    "dV_real = f_real(1, 1.0*arcsec, 1.0*arcsec, 1.0*arcsec, 1.0*arcsec)\n",
    "dV_imag = f_imag(1, 1.0*arcsec, 1.0*arcsec, 1.0*arcsec, 1.0*arcsec)\n",
    "\n",
    "fig, ax = plt.subplots(nrows=2, sharex=True)\n",
    "\n",
    "ax[0].plot(dV_real, \".\", ms=3)\n",
    "ax[1].plot(dV_imag, \".\", ms=3)"
   ]
  },
  {
   "cell_type": "markdown",
   "metadata": {},
   "source": [
    "gradient w.r.t. $a$"
   ]
  },
  {
   "cell_type": "code",
   "execution_count": 26,
   "metadata": {},
   "outputs": [],
   "source": [
    "# gradients of arrays need to be written like this in Theano\n",
    "J, updates = theano.scan(lambda i, interp_real, a : tt.grad(interp_real[i], a), \\\n",
    "                         sequences=tt.arange(interp_real.shape[0]), non_sequences=[interp_real, a])\n",
    "\n",
    "f_real = theano.function([a, delta_alpha, delta_delta, sigma_alpha, sigma_delta], J, updates=updates)"
   ]
  },
  {
   "cell_type": "code",
   "execution_count": 27,
   "metadata": {},
   "outputs": [],
   "source": [
    "J, updates = theano.scan(lambda i, interp_imag, a : tt.grad(interp_imag[i], a), \\\n",
    "                         sequences=tt.arange(interp_imag.shape[0]), non_sequences=[interp_imag, a])\n",
    "\n",
    "f_imag = theano.function([a, delta_alpha, delta_delta, sigma_alpha, sigma_delta], J, updates=updates)"
   ]
  },
  {
   "cell_type": "code",
   "execution_count": 28,
   "metadata": {},
   "outputs": [
    {
     "data": {
      "text/plain": [
       "[<matplotlib.lines.Line2D at 0x1c1aa9cb00>]"
      ]
     },
     "execution_count": 28,
     "metadata": {},
     "output_type": "execute_result"
    },
    {
     "data": {
      "image/png": "[encoded data removed]",
      "text/plain": [
       "<Figure size 432x288 with 2 Axes>"
      ]
     },
     "metadata": {
      "needs_background": "light"
     },
     "output_type": "display_data"
    }
   ],
   "source": [
    "dV_real = f_real(1, 1.0*arcsec, 1.0*arcsec, 1.0*arcsec, 1.0*arcsec)\n",
    "dV_imag = f_imag(1, 1.0*arcsec, 1.0*arcsec, 1.0*arcsec, 1.0*arcsec)\n",
    "\n",
    "fig, ax = plt.subplots(nrows=2, sharex=True)\n",
    "\n",
    "ax[0].plot(dV_real, \".\", ms=3)\n",
    "ax[1].plot(dV_imag, \".\", ms=3)"
   ]
  },
  {
   "cell_type": "code",
   "execution_count": null,
   "metadata": {},
   "outputs": [],
   "source": []
  }
 ],
 "metadata": {
  "kernelspec": {
   "display_name": "Python 3",
   "language": "python",
   "name": "python3"
  },
  "language_info": {
   "codemirror_mode": {
    "name": "ipython",
    "version": 3
   },
   "file_extension": ".py",
   "mimetype": "text/x-python",
   "name": "python",
   "nbconvert_exporter": "python",
   "pygments_lexer": "ipython3",
   "version": "3.7.3"
  }
 },
 "nbformat": 4,
 "nbformat_minor": 2
}
