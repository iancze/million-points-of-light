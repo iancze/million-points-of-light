{
 "cells": [
  {
   "cell_type": "code",
   "execution_count": 1,
   "metadata": {},
   "outputs": [],
   "source": [
    "%matplotlib inline\n",
    "\n",
    "import numpy as np \n",
    "import scipy\n",
    "import matplotlib.pyplot as plt\n",
    "\n",
    "# add the gridding path \n",
    "# import sys\n",
    "# sys.path.append(\"/home/ian/Research/Disks/MillionPoints/million-points-of-light\")\n",
    "# sys.path.append(\"/Users/ianczekala/Documents/ALMA/million-points-of-light\")\n",
    "\n",
    "# import gridding\n",
    "\n",
    "import theano\n",
    "import theano.tensor as tt\n",
    "from theano.tensor import fft\n",
    "\n",
    "import pymc3 as pm\n",
    "\n",
    "# convert from arcseconds to radians\n",
    "arcsec = np.pi / (180.0 * 3600) # [radians]  = 1/206265 radian/arcsec"
   ]
  },
  {
   "cell_type": "code",
   "execution_count": 2,
   "metadata": {},
   "outputs": [],
   "source": [
    "def sky_plane(alpha, dec, a=1, delta_alpha=1.0*arcsec, delta_delta=1.0*arcsec, sigma_alpha=1.0*arcsec,\n",
    "              sigma_delta=1.0*arcsec, Omega=0.0):\n",
    "    '''\n",
    "    alpha: ra (in radians)\n",
    "    delta: dec (in radians)\n",
    "    a : amplitude\n",
    "    delta_alpha : offset (in radians)\n",
    "    delta_dec : offset (in radians)\n",
    "    sigma_alpha : width (in radians)\n",
    "    sigma_dec : width (in radians)\n",
    "    Omega : position angle of ascending node (in degrees east of north)\n",
    "    '''\n",
    "\n",
    "    return a * np.exp(-( (alpha - delta_alpha)**2/(2 * sigma_alpha**2) + \\\n",
    "                        (dec - delta_delta)**2/(2 * sigma_delta**2)))\n",
    "\n",
    "\n",
    "def fourier_plane(u, v, a=1, delta_alpha=1.0*arcsec, delta_delta=1.0*arcsec, sigma_alpha=1.0*arcsec,\n",
    "              sigma_delta=1.0*arcsec, Omega=0.0):\n",
    "    '''\n",
    "    Calculate the Fourier transform of the Gaussian. Assumes u, v in kλ.\n",
    "    '''\n",
    "\n",
    "    # convert back to lambda\n",
    "    u = u * 1e3\n",
    "    v = v * 1e3\n",
    "\n",
    "    return 2 * np.pi * a * sigma_alpha * sigma_delta * np.exp(- 2 * np.pi**2 * \\\n",
    "                (sigma_alpha**2 * u**2 + sigma_delta**2 * v**2) - 2 * np.pi * 1.0j * \\\n",
    "                                                    (delta_alpha * u + delta_delta * v))\n",
    "\n",
    "\n",
    "# the gradients\n",
    "def dV_ddelta_alpha(u, v, a=1, delta_alpha=1.0*arcsec, delta_delta=1.0*arcsec, sigma_alpha=1.0*arcsec,\n",
    "              sigma_delta=1.0*arcsec, Omega=0.0):\n",
    "    \n",
    "    \n",
    "    return -2 * np.pi * 1j * u * fourier_plane(u*1e-3, v*1e-3, a, delta_alpha, delta_delta, sigma_alpha,\n",
    "              sigma_delta, Omega)\n",
    "\n",
    "\n",
    "def dV_ddelta_delta(u, v, a=1, delta_alpha=1.0*arcsec, delta_delta=1.0*arcsec, sigma_alpha=1.0*arcsec,\n",
    "              sigma_delta=1.0*arcsec, Omega=0.0):\n",
    "    \n",
    "    \n",
    "    return -2 * np.pi * 1j * v * fourier_plane(u*1e-3, v*1e-3, a, delta_alpha, delta_delta, sigma_alpha,\n",
    "              sigma_delta, Omega)\n"
   ]
  },
  {
   "cell_type": "code",
   "execution_count": 3,
   "metadata": {},
   "outputs": [],
   "source": [
    "def fftspace(width, N):\n",
    "    '''Oftentimes it is necessary to get a symmetric coordinate array that spans ``N``\n",
    "     elements from `-width` to `+width`, but makes sure that the middle point lands\n",
    "     on ``0``. The indices go from ``0`` to ``N -1.``\n",
    "     `linspace` returns  the end points inclusive, wheras we want to leave out the\n",
    "     right endpoint, because we are sampling the function in a cyclic manner.'''\n",
    "\n",
    "    assert N % 2 == 0, \"N must be even.\"\n",
    "\n",
    "    dx = width * 2.0 / N\n",
    "    xx = np.empty(N, np.float)\n",
    "    for i in range(N):\n",
    "        xx[i] = -width + i * dx\n",
    "    \n",
    "    return xx"
   ]
  },
  {
   "cell_type": "code",
   "execution_count": 4,
   "metadata": {},
   "outputs": [],
   "source": [
    "# Let's plot this up and see what it looks like \n",
    "\n",
    "N_alpha = 128\n",
    "N_dec = 128\n",
    "img_radius = 15.0 * arcsec\n",
    "\n",
    "\n",
    "# full span of the image\n",
    "ra = fftspace(img_radius, N_alpha) # [arcsec]\n",
    "dec = fftspace(img_radius, N_dec) # [arcsec]"
   ]
  },
  {
   "cell_type": "code",
   "execution_count": 5,
   "metadata": {},
   "outputs": [
    {
     "name": "stdout",
     "output_type": "stream",
     "text": [
      "440.03158666047227\n"
     ]
    }
   ],
   "source": [
    "# calculate the maximum u and v points that our image grid can sample \n",
    "dRA = (2 * img_radius) / N_alpha # radians\n",
    "max_baseline = 1 / (2 * dRA) * 1e-3 # kilolambda, nyquist rate\n",
    "print(max_baseline) # kilolambda"
   ]
  },
  {
   "cell_type": "code",
   "execution_count": 6,
   "metadata": {},
   "outputs": [
    {
     "name": "stdout",
     "output_type": "stream",
     "text": [
      "(100, 2)\n",
      "(100,) (100,)\n",
      "(100,)\n"
     ]
    }
   ],
   "source": [
    "# load the fake data\n",
    "\n",
    "N_vis = 100 # number of data points \n",
    "\n",
    "data_points = np.load(\"data_points.npy\")\n",
    "print(data_points.shape)\n",
    "u_data, v_data = data_points.T\n",
    "\n",
    "data_real = np.load(\"data_real.npy\")\n",
    "data_imag = np.load(\"data_imag.npy\")\n",
    "print(data_real.shape, data_imag.shape)\n",
    "\n",
    "noise = np.load(\"noise.npy\")\n",
    "print(noise.shape)"
   ]
  },
  {
   "cell_type": "code",
   "execution_count": 7,
   "metadata": {},
   "outputs": [],
   "source": [
    "# create fixed quantities that we can pre-calculate in numpy before stuffing into the Theano part \n",
    "\n",
    "# the image plane grid (fixed throughout the problem)\n",
    "XX, YY = np.meshgrid(np.fft.fftshift(ra), np.fft.fftshift(dec))\n",
    "\n",
    "# the image-plane taper (fixed throughout problem)\n",
    "corrfun_mat = np.load(\"corrfun.npy\")\n",
    "\n",
    "# the u and v coordinates of the RFFT output (also fixed throughout problem)\n",
    "u_coords = np.fft.rfftfreq(N_alpha, d=(2 * img_radius)/N_alpha) * 1e-3  # convert to [kλ]\n",
    "v_coords = np.fft.fftfreq(N_dec, d=(2 * img_radius)/N_dec) * 1e-3  # convert to [kλ]\n",
    "\n",
    "# load the C_real and C_imag matrices (stored as dense arrays in numpy save files)\n",
    "# these are scipy csc sparse matrices that will be stuffed into Theano objects\n",
    "C_real = scipy.sparse.csc_matrix(np.load(\"C_real.npy\"))\n",
    "C_imag = scipy.sparse.csc_matrix(np.load(\"C_imag.npy\"))"
   ]
  },
  {
   "cell_type": "code",
   "execution_count": 8,
   "metadata": {},
   "outputs": [
    {
     "data": {
      "text/plain": [
       "<100x8320 sparse matrix of type '<class 'numpy.float64'>'\n",
       "\twith 3543 stored elements in Compressed Sparse Column format>"
      ]
     },
     "execution_count": 8,
     "metadata": {},
     "output_type": "execute_result"
    }
   ],
   "source": [
    "C_real"
   ]
  },
  {
   "cell_type": "code",
   "execution_count": 9,
   "metadata": {},
   "outputs": [
    {
     "data": {
      "text/plain": [
       "<100x8320 sparse matrix of type '<class 'numpy.float64'>'\n",
       "\twith 3543 stored elements in Compressed Sparse Column format>"
      ]
     },
     "execution_count": 9,
     "metadata": {},
     "output_type": "execute_result"
    }
   ],
   "source": [
    "C_imag"
   ]
  },
  {
   "cell_type": "markdown",
   "metadata": {},
   "source": [
    "# Sampling in PyMC3 "
   ]
  },
  {
   "cell_type": "code",
   "execution_count": 10,
   "metadata": {},
   "outputs": [],
   "source": [
    "with pm.Model() as model:\n",
    "\n",
    "    # the image-plane grid over which the sky model will be evaluated\n",
    "    # NOTE that these must be `fftshifted` already.\n",
    "    # add an extra dimension for the later packing into the rfft\n",
    "    alpha = theano.shared(XX[np.newaxis,:])\n",
    "    dalpha = abs(alpha[0,0,1] - alpha[0,0,0])\n",
    "    delta = theano.shared(YY[np.newaxis,:])\n",
    "    ddelta = abs(delta[0,1,0] - delta[0,0,0])\n",
    "    \n",
    "    # Define the PyMC3 model parameters, which are just for the image plane model\n",
    "    a = pm.Uniform(\"a\", lower=0.0, upper=10.0)\n",
    "    delta_alpha = pm.Uniform(\"delta_alpha\", lower=-1*arcsec, upper=2*arcsec)\n",
    "    delta_delta = pm.Uniform(\"delta_delta\", lower=-1*arcsec, upper=2*arcsec)\n",
    "    sigma_alpha = pm.Uniform(\"sigma_alpha\", lower=0.5*arcsec, upper=1.5*arcsec)\n",
    "    sigma_delta = pm.Uniform(\"sigma_delta\", lower=0.5*arcsec, upper=1.5*arcsec)\n",
    "    \n",
    "    # Calculate the sky-plane model\n",
    "    I = a * tt.exp(-(alpha - delta_alpha)**2/(2 * sigma_alpha**2) - (delta - delta_delta)**2/(2 * sigma_delta**2))\n",
    "    # since the input coordinates were already shifted, then this is too\n",
    "    # I shape should be (1, N_dec, N_alpha)\n",
    "\n",
    "    # taper the image with the gridding correction function\n",
    "    # this should broadcast OK, since the trailing image dimensions match\n",
    "    corrfun = theano.shared(corrfun_mat)\n",
    "    I_tapered = I * corrfun\n",
    "\n",
    "    # use the FFT to transform the image sky model to the Fourier plane\n",
    "    # output from the RFFT is (1, N_delta, N_alpha//2 + 1, 2)\n",
    "    rfft = dalpha * ddelta * fft.rfft(I_tapered, norm=None)  \n",
    "\n",
    "    # Store the interpolation matrices as theano shared variables, make sure it's sparse\n",
    "    C_real_sparse = theano.sparse.CSC(C_real.data, C_real.indices, C_real.indptr, C_real.shape)\n",
    "    C_imag_sparse = theano.sparse.CSC(C_imag.data, C_imag.indices, C_imag.indptr, C_imag.shape)\n",
    "\n",
    "    # flatten the RFFT output appropriately for the interpolation, taking the real and imag parts separately\n",
    "    vis_real = rfft[0, :, :, 0].flatten() # real values \n",
    "    vis_imag = rfft[0, :, :, 1].flatten() # imaginary values\n",
    "\n",
    "    # interpolate the RFFT to the baselines by a sparse matrix multiply\n",
    "    interp_real = theano.sparse.dot(C_real_sparse, vis_real[:, None])[:, 0]\n",
    "    interp_imag = theano.sparse.dot(C_imag_sparse, vis_imag[:, None])[:, 0]\n",
    "    \n",
    "    # condition on the real and imaginary observations\n",
    "    pm.Normal(\"obs_real\", mu=interp_real, sd=noise, observed=data_real)\n",
    "    pm.Normal(\"obs_imag\", mu=interp_imag, sd=noise, observed=data_imag)"
   ]
  },
  {
   "cell_type": "code",
   "execution_count": 11,
   "metadata": {},
   "outputs": [
    {
     "data": {
      "text/plain": [
       "[a_interval__,\n",
       " delta_alpha_interval__,\n",
       " delta_delta_interval__,\n",
       " sigma_alpha_interval__,\n",
       " sigma_delta_interval__,\n",
       " obs_real,\n",
       " obs_imag]"
      ]
     },
     "execution_count": 11,
     "metadata": {},
     "output_type": "execute_result"
    }
   ],
   "source": [
    "model.basic_RVs"
   ]
  },
  {
   "cell_type": "code",
   "execution_count": 12,
   "metadata": {},
   "outputs": [
    {
     "data": {
      "text/plain": [
       "[a_interval__,\n",
       " delta_alpha_interval__,\n",
       " delta_delta_interval__,\n",
       " sigma_alpha_interval__,\n",
       " sigma_delta_interval__,\n",
       " a,\n",
       " delta_alpha,\n",
       " delta_delta,\n",
       " sigma_alpha,\n",
       " sigma_delta]"
      ]
     },
     "execution_count": 12,
     "metadata": {},
     "output_type": "execute_result"
    }
   ],
   "source": [
    "model.unobserved_RVs"
   ]
  },
  {
   "cell_type": "code",
   "execution_count": 13,
   "metadata": {},
   "outputs": [
    {
     "data": {
      "text/plain": [
       "[a_interval__,\n",
       " delta_alpha_interval__,\n",
       " delta_delta_interval__,\n",
       " sigma_alpha_interval__,\n",
       " sigma_delta_interval__]"
      ]
     },
     "execution_count": 13,
     "metadata": {},
     "output_type": "execute_result"
    }
   ],
   "source": [
    "model.free_RVs"
   ]
  },
  {
   "cell_type": "code",
   "execution_count": 14,
   "metadata": {},
   "outputs": [
    {
     "name": "stderr",
     "output_type": "stream",
     "text": [
      "Only 100 samples in chain.\n",
      "Sequential sampling (2 chains in 1 job)\n",
      "CompoundStep\n",
      ">Metropolis: [sigma_delta]\n",
      ">Metropolis: [sigma_alpha]\n",
      ">Metropolis: [delta_delta]\n",
      ">Metropolis: [delta_alpha]\n",
      ">Metropolis: [a]\n",
      "100%|██████████| 200/200 [00:01<00:00, 116.92it/s]\n",
      "100%|██████████| 200/200 [00:01<00:00, 160.53it/s]\n",
      "The gelman-rubin statistic is larger than 1.4 for some parameters. The sampler did not converge.\n",
      "The number of effective samples is smaller than 10% for some parameters.\n"
     ]
    }
   ],
   "source": [
    "with model:\n",
    "    s = pm.Metropolis(vars=model.free_RVs)\n",
    "    trace = pm.sample(100, tune=100, step=s, cores=1)"
   ]
  },
  {
   "cell_type": "code",
   "execution_count": 15,
   "metadata": {},
   "outputs": [
    {
     "data": {
      "text/html": [
       "<div>\n",
       "<style scoped>\n",
       "    .dataframe tbody tr th:only-of-type {\n",
       "        vertical-align: middle;\n",
       "    }\n",
       "\n",
       "    .dataframe tbody tr th {\n",
       "        vertical-align: top;\n",
       "    }\n",
       "\n",
       "    .dataframe thead th {\n",
       "        text-align: right;\n",
       "    }\n",
       "</style>\n",
       "<table border=\"1\" class=\"dataframe\">\n",
       "  <thead>\n",
       "    <tr style=\"text-align: right;\">\n",
       "      <th></th>\n",
       "      <th>mean</th>\n",
       "      <th>sd</th>\n",
       "      <th>mc_error</th>\n",
       "      <th>hpd_2.5</th>\n",
       "      <th>hpd_97.5</th>\n",
       "      <th>n_eff</th>\n",
       "      <th>Rhat</th>\n",
       "    </tr>\n",
       "  </thead>\n",
       "  <tbody>\n",
       "    <tr>\n",
       "      <th>a</th>\n",
       "      <td>1.071630</td>\n",
       "      <td>5.500487e-02</td>\n",
       "      <td>5.494731e-03</td>\n",
       "      <td>1.000364</td>\n",
       "      <td>1.142576</td>\n",
       "      <td>1.438438</td>\n",
       "      <td>2.087842</td>\n",
       "    </tr>\n",
       "    <tr>\n",
       "      <th>delta_alpha</th>\n",
       "      <td>0.000005</td>\n",
       "      <td>3.631595e-08</td>\n",
       "      <td>3.622331e-09</td>\n",
       "      <td>0.000005</td>\n",
       "      <td>0.000005</td>\n",
       "      <td>7.536170</td>\n",
       "      <td>1.014961</td>\n",
       "    </tr>\n",
       "    <tr>\n",
       "      <th>delta_delta</th>\n",
       "      <td>0.000005</td>\n",
       "      <td>2.089823e-08</td>\n",
       "      <td>2.066331e-09</td>\n",
       "      <td>0.000005</td>\n",
       "      <td>0.000005</td>\n",
       "      <td>7.308779</td>\n",
       "      <td>1.038719</td>\n",
       "    </tr>\n",
       "    <tr>\n",
       "      <th>sigma_alpha</th>\n",
       "      <td>0.000005</td>\n",
       "      <td>1.110876e-07</td>\n",
       "      <td>1.108114e-08</td>\n",
       "      <td>0.000004</td>\n",
       "      <td>0.000005</td>\n",
       "      <td>1.626755</td>\n",
       "      <td>1.932939</td>\n",
       "    </tr>\n",
       "    <tr>\n",
       "      <th>sigma_delta</th>\n",
       "      <td>0.000005</td>\n",
       "      <td>2.310372e-07</td>\n",
       "      <td>2.296244e-08</td>\n",
       "      <td>0.000004</td>\n",
       "      <td>0.000005</td>\n",
       "      <td>NaN</td>\n",
       "      <td>1.637722</td>\n",
       "    </tr>\n",
       "  </tbody>\n",
       "</table>\n",
       "</div>"
      ],
      "text/plain": [
       "                 mean            sd      mc_error   hpd_2.5  hpd_97.5  \\\n",
       "a            1.071630  5.500487e-02  5.494731e-03  1.000364  1.142576   \n",
       "delta_alpha  0.000005  3.631595e-08  3.622331e-09  0.000005  0.000005   \n",
       "delta_delta  0.000005  2.089823e-08  2.066331e-09  0.000005  0.000005   \n",
       "sigma_alpha  0.000005  1.110876e-07  1.108114e-08  0.000004  0.000005   \n",
       "sigma_delta  0.000005  2.310372e-07  2.296244e-08  0.000004  0.000005   \n",
       "\n",
       "                n_eff      Rhat  \n",
       "a            1.438438  2.087842  \n",
       "delta_alpha  7.536170  1.014961  \n",
       "delta_delta  7.308779  1.038719  \n",
       "sigma_alpha  1.626755  1.932939  \n",
       "sigma_delta       NaN  1.637722  "
      ]
     },
     "execution_count": 15,
     "metadata": {},
     "output_type": "execute_result"
    }
   ],
   "source": [
    "pm.summary(trace)"
   ]
  },
  {
   "cell_type": "code",
   "execution_count": 16,
   "metadata": {},
   "outputs": [
    {
     "name": "stderr",
     "output_type": "stream",
     "text": [
      "Auto-assigning NUTS sampler...\n",
      "Initializing NUTS using jitter+adapt_diag...\n",
      "Sequential sampling (1 chains in 1 job)\n",
      "NUTS: [sigma_delta, sigma_alpha, delta_delta, delta_alpha, a]\n",
      "100%|██████████| 2000/2000 [00:35<00:00, 61.21it/s]\n",
      "Only one chain was sampled, this makes it impossible to run some convergence checks\n"
     ]
    }
   ],
   "source": [
    "with model:\n",
    "    trace = pm.sample(draws=1000, tune=1000, chains=1)"
   ]
  },
  {
   "cell_type": "code",
   "execution_count": 17,
   "metadata": {},
   "outputs": [
    {
     "data": {
      "text/html": [
       "<div>\n",
       "<style scoped>\n",
       "    .dataframe tbody tr th:only-of-type {\n",
       "        vertical-align: middle;\n",
       "    }\n",
       "\n",
       "    .dataframe tbody tr th {\n",
       "        vertical-align: top;\n",
       "    }\n",
       "\n",
       "    .dataframe thead th {\n",
       "        text-align: right;\n",
       "    }\n",
       "</style>\n",
       "<table border=\"1\" class=\"dataframe\">\n",
       "  <thead>\n",
       "    <tr style=\"text-align: right;\">\n",
       "      <th></th>\n",
       "      <th>mean</th>\n",
       "      <th>sd</th>\n",
       "      <th>mc_error</th>\n",
       "      <th>hpd_2.5</th>\n",
       "      <th>hpd_97.5</th>\n",
       "    </tr>\n",
       "  </thead>\n",
       "  <tbody>\n",
       "    <tr>\n",
       "      <th>a</th>\n",
       "      <td>1.000071</td>\n",
       "      <td>2.742323e-03</td>\n",
       "      <td>1.049222e-04</td>\n",
       "      <td>0.994868</td>\n",
       "      <td>1.005379</td>\n",
       "    </tr>\n",
       "    <tr>\n",
       "      <th>delta_alpha</th>\n",
       "      <td>0.000005</td>\n",
       "      <td>1.130263e-08</td>\n",
       "      <td>3.480259e-10</td>\n",
       "      <td>0.000005</td>\n",
       "      <td>0.000005</td>\n",
       "    </tr>\n",
       "    <tr>\n",
       "      <th>delta_delta</th>\n",
       "      <td>0.000005</td>\n",
       "      <td>1.097449e-08</td>\n",
       "      <td>2.850761e-10</td>\n",
       "      <td>0.000005</td>\n",
       "      <td>0.000005</td>\n",
       "    </tr>\n",
       "    <tr>\n",
       "      <th>sigma_alpha</th>\n",
       "      <td>0.000005</td>\n",
       "      <td>1.321608e-08</td>\n",
       "      <td>4.922844e-10</td>\n",
       "      <td>0.000005</td>\n",
       "      <td>0.000005</td>\n",
       "    </tr>\n",
       "    <tr>\n",
       "      <th>sigma_delta</th>\n",
       "      <td>0.000005</td>\n",
       "      <td>1.204986e-08</td>\n",
       "      <td>3.902584e-10</td>\n",
       "      <td>0.000005</td>\n",
       "      <td>0.000005</td>\n",
       "    </tr>\n",
       "  </tbody>\n",
       "</table>\n",
       "</div>"
      ],
      "text/plain": [
       "                 mean            sd      mc_error   hpd_2.5  hpd_97.5\n",
       "a            1.000071  2.742323e-03  1.049222e-04  0.994868  1.005379\n",
       "delta_alpha  0.000005  1.130263e-08  3.480259e-10  0.000005  0.000005\n",
       "delta_delta  0.000005  1.097449e-08  2.850761e-10  0.000005  0.000005\n",
       "sigma_alpha  0.000005  1.321608e-08  4.922844e-10  0.000005  0.000005\n",
       "sigma_delta  0.000005  1.204986e-08  3.902584e-10  0.000005  0.000005"
      ]
     },
     "execution_count": 17,
     "metadata": {},
     "output_type": "execute_result"
    }
   ],
   "source": [
    "pm.summary(trace)"
   ]
  },
  {
   "cell_type": "code",
   "execution_count": null,
   "metadata": {},
   "outputs": [],
   "source": []
  }
 ],
 "metadata": {
  "kernelspec": {
   "display_name": "Python 3",
   "language": "python",
   "name": "python3"
  },
  "language_info": {
   "codemirror_mode": {
    "name": "ipython",
    "version": 3
   },
   "file_extension": ".py",
   "mimetype": "text/x-python",
   "name": "python",
   "nbconvert_exporter": "python",
   "pygments_lexer": "ipython3",
   "version": "3.7.2"
  }
 },
 "nbformat": 4,
 "nbformat_minor": 2
}
